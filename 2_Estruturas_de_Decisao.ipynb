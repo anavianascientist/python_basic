{
  "nbformat": 4,
  "nbformat_minor": 0,
  "metadata": {
    "kernelspec": {
      "display_name": "Python 3",
      "language": "python",
      "name": "python3"
    },
    "language_info": {
      "codemirror_mode": {
        "name": "ipython",
        "version": 3
      },
      "file_extension": ".py",
      "mimetype": "text/x-python",
      "name": "python",
      "nbconvert_exporter": "python",
      "pygments_lexer": "ipython3",
      "version": "3.7.6"
    },
    "colab": {
      "name": "2.Estruturas de Decisao.ipynb",
      "provenance": [],
      "include_colab_link": true
    }
  },
  "cells": [
    {
      "cell_type": "markdown",
      "metadata": {
        "id": "view-in-github",
        "colab_type": "text"
      },
      "source": [
        "<a href=\"https://colab.research.google.com/github/anavianascientist/python_basic/blob/master/2_Estruturas_de_Decisao.ipynb\" target=\"_parent\"><img src=\"https://colab.research.google.com/assets/colab-badge.svg\" alt=\"Open In Colab\"/></a>"
      ]
    },
    {
      "cell_type": "markdown",
      "metadata": {
        "id": "DB5rOfS3paNG",
        "colab_type": "text"
      },
      "source": [
        "\n",
        "#Estruturas de Decisão"
      ]
    },
    {
      "cell_type": "code",
      "metadata": {
        "id": "4GOvtFiTpaNK",
        "colab_type": "code",
        "colab": {
          "base_uri": "https://localhost:8080/",
          "height": 51
        },
        "outputId": "836f253f-dba9-4d12-ff3f-9c95012ebc6d"
      },
      "source": [
        "nota = 7\n",
        "if nota >= 7:\n",
        "\tprint(\"Aprovado\")\n",
        "\tprint(\"Parabéns!\")\n",
        "else:\n",
        "\tprint(\"Reprovado\")"
      ],
      "execution_count": 1,
      "outputs": [
        {
          "output_type": "stream",
          "text": [
            "Aprovado\n",
            "Parabéns!\n"
          ],
          "name": "stdout"
        }
      ]
    },
    {
      "cell_type": "code",
      "metadata": {
        "id": "BuRROl6LpaNc",
        "colab_type": "code",
        "colab": {
          "base_uri": "https://localhost:8080/",
          "height": 34
        },
        "outputId": "780d6ade-4b72-4f61-b626-9de43d929aa4"
      },
      "source": [
        "#só mudar o valor da variável\n",
        "nota = 5\n",
        "if nota >= 7:\n",
        "\tprint(\"Aprovado\")\n",
        "else:\n",
        "\tprint(\"Reprovado\")"
      ],
      "execution_count": 2,
      "outputs": [
        {
          "output_type": "stream",
          "text": [
            "Reprovado\n"
          ],
          "name": "stdout"
        }
      ]
    },
    {
      "cell_type": "code",
      "metadata": {
        "id": "8IaTgsvSpaNq",
        "colab_type": "code",
        "colab": {
          "base_uri": "https://localhost:8080/",
          "height": 34
        },
        "outputId": "9a6074a3-f193-48c9-ef07-a840ba653753"
      },
      "source": [
        "#Testar com 4,5 e 7\n",
        "nota = 7\n",
        "if nota <= 4:\n",
        "\tprint(\"Reprovado\")\n",
        "elif nota > 4 and nota <=6:\n",
        "\tprint(\"Exame\")\n",
        "else:\n",
        "\tprint(\"Aprovado\")\n"
      ],
      "execution_count": 3,
      "outputs": [
        {
          "output_type": "stream",
          "text": [
            "Aprovado\n"
          ],
          "name": "stdout"
        }
      ]
    },
    {
      "cell_type": "code",
      "metadata": {
        "id": "OhCF10u_paN2",
        "colab_type": "code",
        "colab": {}
      },
      "source": [
        ""
      ],
      "execution_count": null,
      "outputs": []
    }
  ]
}