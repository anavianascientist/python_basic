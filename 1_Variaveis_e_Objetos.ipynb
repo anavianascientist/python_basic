{
  "nbformat": 4,
  "nbformat_minor": 0,
  "metadata": {
    "kernelspec": {
      "display_name": "Python 3",
      "language": "python",
      "name": "python3"
    },
    "language_info": {
      "codemirror_mode": {
        "name": "ipython",
        "version": 3
      },
      "file_extension": ".py",
      "mimetype": "text/x-python",
      "name": "python",
      "nbconvert_exporter": "python",
      "pygments_lexer": "ipython3",
      "version": "3.7.6"
    },
    "colab": {
      "name": "1.Variaveis e Objetos.ipynb",
      "provenance": [],
      "include_colab_link": true
    }
  },
  "cells": [
    {
      "cell_type": "markdown",
      "metadata": {
        "id": "view-in-github",
        "colab_type": "text"
      },
      "source": [
        "<a href=\"https://colab.research.google.com/github/anavianascientist/python_basic/blob/master/1_Variaveis_e_Objetos.ipynb\" target=\"_parent\"><img src=\"https://colab.research.google.com/assets/colab-badge.svg\" alt=\"Open In Colab\"/></a>"
      ]
    },
    {
      "cell_type": "markdown",
      "metadata": {
        "id": "lMwWU-XqolLN",
        "colab_type": "text"
      },
      "source": [
        
        "Variáveis e Objetos"
      ]
    },
    {
      "cell_type": "code",
      "metadata": {
        "id": "cwImBeTSolLT",
        "colab_type": "code",
        "colab": {}
      },
      "source": [
        "#Cria variável do tipo inteiro\n",
        "x = 1\n",
        "print(x)\n",
        "#Cria variável do tipo float\n",
        "y = 3.13\n",
        "print(y)\n",
        "#Cria variável do tipo string\n",
        "m = \"Python\"\n",
        "m = 'Python'\n",
        "print(m)\n",
        "#Cria variável do tipo lógica\n",
        "w = True  \n",
        "y = False\n",
        "print(y)"
      ],
      "execution_count": null,
      "outputs": []
    },
    {
      "cell_type": "code",
      "metadata": {
        "id": "5q2f5aC1olLe",
        "colab_type": "code",
        "colab": {}
      },
      "source": [
        "#calculadora\n",
        "x = 10\n",
        "y = 20\n",
        "z = 100\n",
        "w = (x + y) * z / 100\n",
        "print(w)"
      ],
      "execution_count": null,
      "outputs": []
    },
    {
      "cell_type": "code",
      "metadata": {
        "id": "g88uckDTolLn",
        "colab_type": "code",
        "colab": {}
      },
      "source": [
        "#exibir texto no console\n",
        "print(\"Este texto será impresso no console\")\n",
        "print(x)\n",
        "print(\"Texto e duas variáveis: \", x ,\", \", z)"
      ],
      "execution_count": null,
      "outputs": []
    },
    {
      "cell_type": "code",
      "metadata": {
        "id": "pY7nf6XiolLv",
        "colab_type": "code",
        "colab": {}
      },
      "source": [
        "#verificar tipo\n",
        "print(type(x))\n",
        "print(type(m))"
      ],
      "execution_count": null,
      "outputs": []
    },
    {
      "cell_type": "code",
      "metadata": {
        "id": "cVNvj_zpolL3",
        "colab_type": "code",
        "colab": {}
      },
      "source": [
        "#entrada de dados\n",
        "print(\"Informe o valor: \")\n",
        "i = input()\n",
        "#mostra tipo string\n",
        "print(type(i))"
      ],
      "execution_count": null,
      "outputs": []
    },
    {
      "cell_type": "code",
      "metadata": {
        "id": "Ayx33lwyolL_",
        "colab_type": "code",
        "colab": {}
      },
      "source": [
        "#entrada de valor com msg separada e junto\n",
        "print(\"Informe o valor: \")\n",
        "i = input()\n",
        "# ou\n",
        "i = input(\"Informe o valor: \")"
      ],
      "execution_count": null,
      "outputs": []
    },
    {
      "cell_type": "code",
      "metadata": {
        "id": "OD8F0cEQolMH",
        "colab_type": "code",
        "colab": {}
      },
      "source": [
        "#conversão de valores\n",
        "#para inteiro\n",
        "var = input(\"Informe o valor: \")\n",
        "print(type(var))\n",
        "var = int(var)\n",
        "print(type(var))"
      ],
      "execution_count": null,
      "outputs": []
    },
    {
      "cell_type": "code",
      "metadata": {
        "id": "vAHNDqNNolMR",
        "colab_type": "code",
        "colab": {}
      },
      "source": [
        "#para float\n",
        "var = input(\"Informe o valor: \")\n",
        "print(type(var))\n",
        "var = float(var)\n",
        "print(type(var))"
      ],
      "execution_count": null,
      "outputs": []
    },
    {
      "cell_type": "code",
      "metadata": {
        "id": "HCYs-TIkolMY",
        "colab_type": "code",
        "colab": {}
      },
      "source": [
        "# Este texto é um comentário\n",
        "X = 10  # a partir daqui é um comentário"
      ],
      "execution_count": null,
      "outputs": []
    },
    {
      "cell_type": "code",
      "metadata": {
        "id": "aNntss_VolMg",
        "colab_type": "code",
        "colab": {}
      },
      "source": [
        ""
      ],
      "execution_count": null,
      "outputs": []
    }
  ]
}
