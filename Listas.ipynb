{
  "nbformat": 4,
  "nbformat_minor": 0,
  "metadata": {
    "colab": {
      "name": "Listas.ipynb",
      "provenance": [],
      "collapsed_sections": [],
      "authorship_tag": "ABX9TyMPykkOjQIxXBHCcsp52xB5",
      "include_colab_link": true
    },
    "kernelspec": {
      "name": "python3",
      "display_name": "Python 3"
    }
  },
  "cells": [
    {
      "cell_type": "markdown",
      "metadata": {
        "id": "view-in-github",
        "colab_type": "text"
      },
      "source": [
        "<a href=\"https://colab.research.google.com/github/anavianascientist/python_basic/blob/master/Listas.ipynb\" target=\"_parent\"><img src=\"https://colab.research.google.com/assets/colab-badge.svg\" alt=\"Open In Colab\"/></a>"
      ]
    },
    {
      "cell_type": "markdown",
      "metadata": {
        "id": "1Bo0uG9gkZtE",
        "colab_type": "text"
      },
      "source": [
        "# Python : Listas\n",
        "\n",
        "As listas permitem armazenar conjuntos de informações em um só lugar, independentemente de termos alguns itens ou milhões. \n",
        "\n",
        "É uma coleção de itens em uma ordem particular. Não é necessário que os itens estejam relacionados. Meio que por convenção com a lista tem mais de um item seu nome ser escrito no plural.\n",
        "\n",
        "Em Python, colchetes [] indicam lista, sendo os elementos individuais separados por vírgula. \n",
        "\n",
        "---\n",
        "\n"
      ]
    },
    {
      "cell_type": "code",
      "metadata": {
        "id": "PUNigQ9WlecW",
        "colab_type": "code",
        "colab": {
          "base_uri": "https://localhost:8080/",
          "height": 34
        },
        "outputId": "b0ca864e-6b0c-4e88-ad6b-ecb24383c660"
      },
      "source": [
        "# Exemplo de um a lista \n",
        "materiais =  ['caderno','lápis', 'caneta', 'livro']\n",
        "print(materiais)"
      ],
      "execution_count": 1,
      "outputs": [
        {
          "output_type": "stream",
          "text": [
            "['caderno', 'lápis', 'caneta', 'livro']\n"
          ],
          "name": "stdout"
        }
      ]
    },
    {
      "cell_type": "markdown",
      "metadata": {
        "id": "vTyw7NTxl2dB",
        "colab_type": "text"
      },
      "source": [
        "##Acesso aos elementos da lista\n",
        "\n",
        "Listas são coleções:\n",
        "\n",
        ">> - Ordenadas,\n",
        ">> - Mutável,\n",
        ">> - Permite duplicidade.\n",
        "\n",
        "E qualquer elemento dentro da lista pode ser acessado, alterado e removido. E um novo elemento pode ser acrescentado.\n",
        "\n",
        "Em Pyhton, a contagem inicia em zero. Por exemplo:\n",
        "\n",
        "['caderno', 'lápis', 'caneta', 'livro']\n",
        "\n",
        "Temos o exemplo de uma lista de 4 itens, porém em Python o primeiro item é 0. Logo se quero acessar o lápis, terei que indicá-lo como 1. \n",
        "\n",
        "Veja abaixo:\n"
      ]
    },
    {
      "cell_type": "code",
      "metadata": {
        "id": "eJdxXjlmmzFX",
        "colab_type": "code",
        "colab": {
          "base_uri": "https://localhost:8080/",
          "height": 34
        },
        "outputId": "3f2f1488-8508-46af-ba0b-a7a972348114"
      },
      "source": [
        "# Acesso a um elemento da lista\n",
        "print(materiais[1])"
      ],
      "execution_count": 3,
      "outputs": [
        {
          "output_type": "stream",
          "text": [
            "lápis\n"
          ],
          "name": "stdout"
        }
      ]
    },
    {
      "cell_type": "markdown",
      "metadata": {
        "id": "GBdKiYFlnsbc",
        "colab_type": "text"
      },
      "source": [
        "E para acessar o último item da lista Pyhton tem uma sintaxe especial. Quer seria o -1. Essa sintaxe é bem útil, pois, com frequência, você vai querer acessar os últimos itens de uma lista sem saber exatamente o tamanho dela. \n",
        "\n",
        "Essa convenção também se estende a outros valores negativos de índice. O índice -2 devolve o segundo item a\n",
        "partir do final da lista, o índice -3 devolve o terceiro item a partir do final, e assim sucessivamente."
      ]
    },
    {
      "cell_type": "code",
      "metadata": {
        "id": "NRNOvvWQmmLV",
        "colab_type": "code",
        "colab": {
          "base_uri": "https://localhost:8080/",
          "height": 34
        },
        "outputId": "729b48ef-d126-47c6-937d-a06f3756b90f"
      },
      "source": [
        "print(materiais[-1])"
      ],
      "execution_count": 5,
      "outputs": [
        {
          "output_type": "stream",
          "text": [
            "livro\n"
          ],
          "name": "stdout"
        }
      ]
    },
    {
      "cell_type": "markdown",
      "metadata": {
        "id": "JfNK3O39oYQn",
        "colab_type": "text"
      },
      "source": [
        "Você pode também usar trabalhar com um item da lista para uma finalidade específica. Fazer uma concatenação para passar uma mensagem."
      ]
    },
    {
      "cell_type": "code",
      "metadata": {
        "id": "baZtTHJsl1W3",
        "colab_type": "code",
        "colab": {
          "base_uri": "https://localhost:8080/",
          "height": 34
        },
        "outputId": "22e532e2-7d93-4b10-8926-f8cfdbfad7f3"
      },
      "source": [
        "mensagem = 'Na escola eu gosto de escrever de ' + materiais[2] + '.' \n",
        "print(mensagem)"
      ],
      "execution_count": null,
      "outputs": [
        {
          "output_type": "stream",
          "text": [
            "Na escola eu gosto de escrever de caneta.\n"
          ],
          "name": "stdout"
        }
      ]
    },
    {
      "cell_type": "code",
      "metadata": {
        "id": "0c6EEsphpUQT",
        "colab_type": "code",
        "colab": {
          "base_uri": "https://localhost:8080/",
          "height": 34
        },
        "outputId": "3e0db3c2-f5af-4ed8-ca1e-d8dfb07613ff"
      },
      "source": [
        "#Remover item por outro\n",
        "materiais [0] = 'apontador' # caderno será substituido por apontador\n",
        "print(materiais)"
      ],
      "execution_count": 10,
      "outputs": [
        {
          "output_type": "stream",
          "text": [
            "['apontador', 'lápis', 'caneta', 'livro']\n"
          ],
          "name": "stdout"
        }
      ]
    },
    {
      "cell_type": "code",
      "metadata": {
        "id": "DjQcNr2JpnNx",
        "colab_type": "code",
        "colab": {
          "base_uri": "https://localhost:8080/",
          "height": 34
        },
        "outputId": "3c434c3f-8fa6-466a-aa4a-72e8fd7721c8"
      },
      "source": [
        "# Acrescentar item à lista\n",
        "materiais.append('lapiseira')\n",
        "print(materiais)"
      ],
      "execution_count": 11,
      "outputs": [
        {
          "output_type": "stream",
          "text": [
            "['apontador', 'lápis', 'caneta', 'livro', 'lapiseira']\n"
          ],
          "name": "stdout"
        }
      ]
    },
    {
      "cell_type": "code",
      "metadata": {
        "id": "5Z3VBrOEqEmN",
        "colab_type": "code",
        "colab": {
          "base_uri": "https://localhost:8080/",
          "height": 34
        },
        "outputId": "a5cfa140-6b85-4649-f654-9984ef22aaa5"
      },
      "source": [
        "# Remover com a instrução del\n",
        "del materiais[3]\n",
        "print(materiais)"
      ],
      "execution_count": 12,
      "outputs": [
        {
          "output_type": "stream",
          "text": [
            "['apontador', 'lápis', 'caneta', 'lapiseira']\n"
          ],
          "name": "stdout"
        }
      ]
    },
    {
      "cell_type": "code",
      "metadata": {
        "id": "ZOgfrIyKqOwA",
        "colab_type": "code",
        "colab": {
          "base_uri": "https://localhost:8080/",
          "height": 51
        },
        "outputId": "215b4e2d-1ad0-469b-f632-b132017e647f"
      },
      "source": [
        "# Remover com o método pop() \n",
        "popped_materiais = materiais.pop()\n",
        "print(materiais)\n",
        "print(popped_materiais)\n",
        "\n",
        "\"\"\".\"\"\""
      ],
      "execution_count": 14,
      "outputs": [
        {
          "output_type": "stream",
          "text": [
            "['apontador', 'lápis']\n",
            "caneta\n"
          ],
          "name": "stdout"
        }
      ]
    },
    {
      "cell_type": "markdown",
      "metadata": {
        "id": "JT9hugVPrlL8",
        "colab_type": "text"
      },
      "source": [
        "## Método POP()\n",
        "\n",
        "Esse método remove o último item de uma lista, mas permite que você trabalhe com esse item depois da remoção. \n",
        "\n",
        "Mas será que esse método tem mesmo uma boa utilidade?\n",
        "\n"
      ]
    },
    {
      "cell_type": "code",
      "metadata": {
        "id": "J4G6wxSFsCP5",
        "colab_type": "code",
        "colab": {
          "base_uri": "https://localhost:8080/",
          "height": 34
        },
        "outputId": "32332572-afc9-428a-b6a2-82cd962bc59f"
      },
      "source": [
        "# Lista de carros ordenada por compra pelo proprietário\n",
        "carros = ['uno', 'celta', 'fiesta', 'argo', 'onix']\n",
        "ultimo_comprado = carros.pop()\n",
        "print('O último carro comprado pelo proprietáro foi o ' + ultimo_comprado.title() + '.')\n"
      ],
      "execution_count": 18,
      "outputs": [
        {
          "output_type": "stream",
          "text": [
            "O último carro comprado pelo proprietáro foi o Onix.\n"
          ],
          "name": "stdout"
        }
      ]
    },
    {
      "cell_type": "code",
      "metadata": {
        "id": "WbS8FkQ7s-gk",
        "colab_type": "code",
        "colab": {
          "base_uri": "https://localhost:8080/",
          "height": 34
        },
        "outputId": "fe0877ba-027f-40e1-f54d-6aeb568c826d"
      },
      "source": [
        "# Remover item de qualquer posição na lista\n",
        "itens = carros.pop()\n",
        "print('Um dos carros comprados pelo proprietáro foi o ' + itens.title() + '.')"
      ],
      "execution_count": 21,
      "outputs": [
        {
          "output_type": "stream",
          "text": [
            "Um dos carros comprados pelo proprietáro foi o Celta.\n"
          ],
          "name": "stdout"
        }
      ]
    },
    {
      "cell_type": "code",
      "metadata": {
        "id": "ymi10Bwstc-n",
        "colab_type": "code",
        "colab": {
          "base_uri": "https://localhost:8080/",
          "height": 34
        },
        "outputId": "e4f6336a-1201-45e8-8c94-f27401ecc306"
      },
      "source": [
        "# Removendo de acordo com o valor\n",
        "carros1 = ['uno', 'celta', 'argo', 'onix']\n",
        "carros1.remove('uno')\n",
        "print(carros1)\n",
        "\n",
        "\"\"\"O método remove() apaga apenas a primeira ocorrência do valor que você\n",
        "especificar. Se houver a possibilidade de o valor aparecer mais de uma vez na\n",
        "lista, será necessário usar um laço para determinar se todas as ocorrências desse\n",
        "valor foram removidas.\"\"\""
      ],
      "execution_count": 28,
      "outputs": [
        {
          "output_type": "stream",
          "text": [
            "['celta', 'argo', 'onix']\n"
          ],
          "name": "stdout"
        }
      ]
    },
    {
      "cell_type": "markdown",
      "metadata": {
        "id": "fMDCUCsGus3G",
        "colab_type": "text"
      },
      "source": [
        "## Organizando uma lista\n",
        "\n",
        "Imagine que com frequência suas listas serão criadas em uma ordem imprevisível, pois nem sempre será possível controlar a ordem que seus usuários fornecerão seus dados.\n",
        "\n",
        "Algumas vezes a ordem original você vai querer preservar e outras vezes não, desejará uma ordenação diferente no intuito de que fique de acordo com a situação.\n",
        "\n",
        "Em Pyhton temos algumas formas de ordenar nossas listas. \n",
        "\n",
        "Vejamos:"
      ]
    },
    {
      "cell_type": "code",
      "metadata": {
        "id": "cH71yH4twVEy",
        "colab_type": "code",
        "colab": {
          "base_uri": "https://localhost:8080/",
          "height": 34
        },
        "outputId": "303bc4ac-f533-47af-c1ab-5ba8293d5245"
      },
      "source": [
        "# Ordenar pelo método sort()\n",
        "carros1.sort() # lista criada anteriormente\n",
        "print(carros1)"
      ],
      "execution_count": 30,
      "outputs": [
        {
          "output_type": "stream",
          "text": [
            "['argo', 'celta', 'onix']\n"
          ],
          "name": "stdout"
        }
      ]
    },
    {
      "cell_type": "code",
      "metadata": {
        "id": "rM9tWHHLuOVq",
        "colab_type": "code",
        "colab": {
          "base_uri": "https://localhost:8080/",
          "height": 34
        },
        "outputId": "b04ab3cf-d9f8-4713-c3ff-2c99645fe926"
      },
      "source": [
        "# Ordem alfabétiva inversa passando um  argumento\n",
        "carros1.sort(reverse=True)\n",
        "print(carros1)\n"
      ],
      "execution_count": 31,
      "outputs": [
        {
          "output_type": "stream",
          "text": [
            "['onix', 'celta', 'argo']\n"
          ],
          "name": "stdout"
        }
      ]
    },
    {
      "cell_type": "code",
      "metadata": {
        "id": "AIK9rLu-w5rZ",
        "colab_type": "code",
        "colab": {
          "base_uri": "https://localhost:8080/",
          "height": 153
        },
        "outputId": "40c2ff89-9605-4387-d26f-63369960e462"
      },
      "source": [
        "# Ordena temporariamente dessa forma mantemos a ordem original\n",
        "print(\"Esta é a lista com a ordem original:\")\n",
        "print(carros1)\n",
        "\n",
        "print('\\nEsta é a lisa ordenada pela função sorted:')\n",
        "print(sorted(carros1))\n",
        "\n",
        "print(\"\\nEsta é a lista com a ordem original:\")\n",
        "print(carros1)\n",
        "\n",
        "\"\"\"É importante sabermos que a ordenação de um a lista pode ser algo mais complexo\n",
        "quando partimos do princípio que uma lista pode conter letras maiúsculas, minúsculas,\n",
        "números. Dessa forma existe várias forma de interpretar. Mas de um modo geral\n",
        "as abordagens para ordenar listas está dentro do que vimos.\"\"\""
      ],
      "execution_count": 32,
      "outputs": [
        {
          "output_type": "stream",
          "text": [
            "Esta é a lista com a ordem original:\n",
            "['onix', 'celta', 'argo']\n",
            "\n",
            "Esta é a lisa ordenada pela função sorted:\n",
            "['argo', 'celta', 'onix']\n",
            "\n",
            "Esta é a lista com a ordem original:\n",
            "['onix', 'celta', 'argo']\n"
          ],
          "name": "stdout"
        }
      ]
    },
    {
      "cell_type": "code",
      "metadata": {
        "id": "NYoek09QyNnW",
        "colab_type": "code",
        "colab": {
          "base_uri": "https://localhost:8080/",
          "height": 34
        },
        "outputId": "22d09ea1-44a9-4eae-e46c-4d3119b058c4"
      },
      "source": [
        "# Lista em ordem reversa\n",
        "# Reverse() altera a ordem da lista permanentemente, para voltar ao original \n",
        "# aplica reverse() de novo\n",
        "carros1.reverse()\n",
        "print(carros1)\n"
      ],
      "execution_count": 33,
      "outputs": [
        {
          "output_type": "stream",
          "text": [
            "['argo', 'celta', 'onix']\n"
          ],
          "name": "stdout"
        }
      ]
    },
    {
      "cell_type": "code",
      "metadata": {
        "id": "KFtiF7H-yt5c",
        "colab_type": "code",
        "colab": {
          "base_uri": "https://localhost:8080/",
          "height": 34
        },
        "outputId": "35b824af-48d6-4999-c4fb-2531629c9102"
      },
      "source": [
        "# Tamanho da lista\n",
        "len(carros1)"
      ],
      "execution_count": 34,
      "outputs": [
        {
          "output_type": "execute_result",
          "data": {
            "text/plain": [
              "3"
            ]
          },
          "metadata": {
            "tags": []
          },
          "execution_count": 34
        }
      ]
    },
    {
      "cell_type": "code",
      "metadata": {
        "id": "JMMeKYkwy5Ot",
        "colab_type": "code",
        "colab": {}
      },
      "source": [
        ""
      ],
      "execution_count": null,
      "outputs": []
    }
  ]
}