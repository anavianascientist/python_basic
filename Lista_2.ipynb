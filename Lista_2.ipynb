{
  "nbformat": 4,
  "nbformat_minor": 0,
  "metadata": {
    "colab": {
      "name": "Lista_2.ipynb",
      "provenance": [],
      "authorship_tag": "ABX9TyPExFFRisfUnWnoUDZ2TIQ/",
      "include_colab_link": true
    },
    "kernelspec": {
      "name": "python3",
      "display_name": "Python 3"
    }
  },
  "cells": [
    {
      "cell_type": "markdown",
      "metadata": {
        "id": "view-in-github",
        "colab_type": "text"
      },
      "source": [
        "<a href=\"https://colab.research.google.com/github/anavianascientist/python_basic/blob/master/Lista_2.ipynb\" target=\"_parent\"><img src=\"https://colab.research.google.com/assets/colab-badge.svg\" alt=\"Open In Colab\"/></a>"
      ]
    },
    {
      "cell_type": "markdown",
      "metadata": {
        "id": "WfdCHMtilgc-",
        "colab_type": "text"
      },
      "source": [
        "# Python : Listas\n",
        "\n",
        "As fatias de uma lista são úteis em várias situações.\n",
        ">> - adicionar a pontuação de um jogador em umta lista;\n",
        ">> - de uma lista obter a pontuação mais alta;\n",
        ">> - com dados - fatiar para processar em porções;\n",
        "\n",
        "\n",
        "E assim teremos mais uma utilização das listas.\n"
      ]
    },
    {
      "cell_type": "code",
      "metadata": {
        "id": "hSFf-mxXlZw8",
        "colab_type": "code",
        "colab": {
          "base_uri": "https://localhost:8080/",
          "height": 34
        },
        "outputId": "227168b7-7c2d-4228-92ca-961d9c6299f6"
      },
      "source": [
        "# Fatia de uma lista\n",
        "jogos = ['free fire', 'minecraft', 'futebol', 'dinossauro', 'fifa']\n",
        "print(jogos[0:3])"
      ],
      "execution_count": 13,
      "outputs": [
        {
          "output_type": "stream",
          "text": [
            "['free fire', 'minecraft', 'futebol']\n"
          ],
          "name": "stdout"
        }
      ]
    },
    {
      "cell_type": "code",
      "metadata": {
        "id": "XyMNaqxYnPqW",
        "colab_type": "code",
        "colab": {
          "base_uri": "https://localhost:8080/",
          "height": 34
        },
        "outputId": "93986230-f8a9-4432-f0b0-686da73c38ce"
      },
      "source": [
        "#Subconjunto de uma lista - 2º, 3º e 4º\n",
        "print(jogos[1:4])\n"
      ],
      "execution_count": 14,
      "outputs": [
        {
          "output_type": "stream",
          "text": [
            "['minecraft', 'futebol', 'dinossauro']\n"
          ],
          "name": "stdout"
        }
      ]
    },
    {
      "cell_type": "code",
      "metadata": {
        "id": "AnljP5-volM9",
        "colab_type": "code",
        "colab": {
          "base_uri": "https://localhost:8080/",
          "height": 34
        },
        "outputId": "235220a4-c57d-403c-d132-03702d4a4014"
      },
      "source": [
        "# Primeiro índice for omitido automaticamente iniciará pelo primeiro da lista\n",
        "print(jogos[:4])"
      ],
      "execution_count": 15,
      "outputs": [
        {
          "output_type": "stream",
          "text": [
            "['free fire', 'minecraft', 'futebol', 'dinossauro']\n"
          ],
          "name": "stdout"
        }
      ]
    },
    {
      "cell_type": "code",
      "metadata": {
        "id": "h3X8t3MSo0Xj",
        "colab_type": "code",
        "colab": {
          "base_uri": "https://localhost:8080/",
          "height": 34
        },
        "outputId": "054429e4-4e80-4c7b-8157-3040751a0b52"
      },
      "source": [
        "# Elementos pelo final da lista\n",
        "print(jogos[2:])"
      ],
      "execution_count": 16,
      "outputs": [
        {
          "output_type": "stream",
          "text": [
            "['futebol', 'dinossauro', 'fifa']\n"
          ],
          "name": "stdout"
        }
      ]
    },
    {
      "cell_type": "code",
      "metadata": {
        "id": "Ix8lFe98pU9Z",
        "colab_type": "code",
        "colab": {
          "base_uri": "https://localhost:8080/",
          "height": 34
        },
        "outputId": "19ad8085-605c-4cfb-e6cb-66b79480cd70"
      },
      "source": [
        "# Sintaxe apresenta todos os elementos a partir de qualquer ponto de sua lista\n",
        "# até o final\n",
        "print(jogos[-2:]) #começa pelo final até o indice indicado"
      ],
      "execution_count": 17,
      "outputs": [
        {
          "output_type": "stream",
          "text": [
            "['dinossauro', 'fifa']\n"
          ],
          "name": "stdout"
        }
      ]
    },
    {
      "cell_type": "code",
      "metadata": {
        "id": "Qe03jsxVp1P7",
        "colab_type": "code",
        "colab": {
          "base_uri": "https://localhost:8080/",
          "height": 68
        },
        "outputId": "bc9c0c77-b41d-48fd-cb91-c9b55c5bef32"
      },
      "source": [
        "print('Estes são meus jogos preferidos:')\n",
        "jogos = ['free fire', 'minecraft', 'futebol', 'dinossauro', 'fifa']\n",
        "for jogo in jogos[:2]:\n",
        "  print(jogo.title()) \n"
      ],
      "execution_count": 20,
      "outputs": [
        {
          "output_type": "stream",
          "text": [
            "Estes são meus jogos preferidos:\n",
            "Free Fire\n",
            "Minecraft\n"
          ],
          "name": "stdout"
        }
      ]
    },
    {
      "cell_type": "markdown",
      "metadata": {
        "id": "YMyYKbIyrmWD",
        "colab_type": "text"
      },
      "source": [
        "## Copiando uma Lista\n",
        "\n",
        "Com frequência uma lista é criada. E logo, você vai querer criar uma nova lista totalmente nova com base na primeira.\n"
      ]
    },
    {
      "cell_type": "code",
      "metadata": {
        "id": "1UpqFjmMqjiw",
        "colab_type": "code",
        "colab": {
          "base_uri": "https://localhost:8080/",
          "height": 102
        },
        "outputId": "9f69cea8-600f-4155-93b5-a1929c81b8da"
      },
      "source": [
        "minhas_comidas = ['lasanha', 'pizza', 'batata', 'feijao']\n",
        "comidas_amigo = minhas_comidas[:]\n",
        "print('Minhas comidas favoritas são:')\n",
        "print(minhas_comidas)\n",
        "print('\\nAs comidas preferidas do meu amigo é:')\n",
        "print(comidas_amigo)\n"
      ],
      "execution_count": null,
      "outputs": [
        {
          "output_type": "stream",
          "text": [
            "Minhas comidas favoritas são:\n",
            "['lasanha', 'pizza', 'batata', 'feijao']\n",
            "\n",
            "As comidas preferidas do meu amigo é:\n",
            "['lasanha', 'pizza', 'batata', 'feijao']\n"
          ],
          "name": "stdout"
        }
      ]
    },
    {
      "cell_type": "code",
      "metadata": {
        "id": "EZ-L4MPttGia",
        "colab_type": "code",
        "colab": {
          "base_uri": "https://localhost:8080/",
          "height": 102
        },
        "outputId": "82e7c1d6-347f-428d-f9c4-920ff99afecd"
      },
      "source": [
        "#Acresentando elementos em cada uma das listas\n",
        "minhas_comidas = ['lasanha', 'pizza', 'batata', 'feijao']\n",
        "comidas_amigo = minhas_comidas[:]\n",
        "minhas_comidas.append('pudim')\n",
        "comidas_amigo.append('sorvete')\n",
        "print('Minhas comidas favoritas são:')\n",
        "print(minhas_comidas)\n",
        "print('\\nAs comidas preferidas do meu amigo é:')\n",
        "print(comidas_amigo)\n",
        "\n"
      ],
      "execution_count": 22,
      "outputs": [
        {
          "output_type": "stream",
          "text": [
            "Minhas comidas favoritas são:\n",
            "['lasanha', 'pizza', 'batata', 'feijao', 'pudim']\n",
            "\n",
            "As comidas preferidas do meu amigo é:\n",
            "['lasanha', 'pizza', 'batata', 'feijao', 'sorvete']\n"
          ],
          "name": "stdout"
        }
      ]
    },
    {
      "cell_type": "code",
      "metadata": {
        "id": "9nXWd9sdtjGr",
        "colab_type": "code",
        "colab": {
          "base_uri": "https://localhost:8080/",
          "height": 51
        },
        "outputId": "25c5a2c4-07d0-4b8c-cddf-625b0df6580d"
      },
      "source": [
        "#Agora tornamos uma lista igual à outra \n",
        "minhas_comidas = comidas_amigo\n",
        "print(minhas_comidas)\n",
        "print(comidas_amigo)"
      ],
      "execution_count": 24,
      "outputs": [
        {
          "output_type": "stream",
          "text": [
            "['lasanha', 'pizza', 'batata', 'feijao', 'sorvete']\n",
            "['lasanha', 'pizza', 'batata', 'feijao', 'sorvete']\n"
          ],
          "name": "stdout"
        }
      ]
    },
    {
      "cell_type": "markdown",
      "metadata": {
        "id": "9D1hcgZClfAv",
        "colab_type": "text"
      },
      "source": [
        ""
      ]
    }
  ]
}