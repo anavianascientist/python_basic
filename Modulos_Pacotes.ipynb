{
  "nbformat": 4,
  "nbformat_minor": 0,
  "metadata": {
    "kernelspec": {
      "display_name": "Python 3",
      "language": "python",
      "name": "python3"
    },
    "language_info": {
      "codemirror_mode": {
        "name": "ipython",
        "version": 3
      },
      "file_extension": ".py",
      "mimetype": "text/x-python",
      "name": "python",
      "nbconvert_exporter": "python",
      "pygments_lexer": "ipython3",
      "version": "3.7.6"
    },
    "colab": {
      "name": "Modulos_Pacotes.ipynb",
      "provenance": [],
      "include_colab_link": true
    }
  },
  "cells": [
    {
      "cell_type": "markdown",
      "metadata": {
        "id": "view-in-github",
        "colab_type": "text"
      },
      "source": [
        "<a href=\"https://colab.research.google.com/github/anavianascientist/python_basic/blob/master/Modulos_Pacotes.ipynb\" target=\"_parent\"><img src=\"https://colab.research.google.com/assets/colab-badge.svg\" alt=\"Open In Colab\"/></a>"
      ]
    },
    {
      "cell_type": "markdown",
      "metadata": {
        "id": "cap1LC3ZrkRs",
        "colab_type": "text"
      },
      "source": [
        "\n",
        "#Módulos e Pacotes"
      ]
    },
    {
      "cell_type": "code",
      "metadata": {
        "id": "120xGHAOrkRx",
        "colab_type": "code",
        "colab": {
          "base_uri": "https://localhost:8080/",
          "height": 51
        },
        "outputId": "d586e549-70bd-4cab-89d7-d1a4f05b282e"
      },
      "source": [
        "import statistics \n",
        "z = [10,20,30,40]\n",
        "x = statistics.mean(z)\n",
        "y = statistics.median(z)\n",
        "print(x)\n",
        "print(y)"
      ],
      "execution_count": 1,
      "outputs": [
        {
          "output_type": "stream",
          "text": [
            "25\n",
            "25.0\n"
          ],
          "name": "stdout"
        }
      ]
    },
    {
      "cell_type": "code",
      "metadata": {
        "id": "8SC407F2rkR9",
        "colab_type": "code",
        "colab": {
          "base_uri": "https://localhost:8080/",
          "height": 51
        },
        "outputId": "31e395b5-d374-42c9-fae4-81108bdb06a4"
      },
      "source": [
        "import statistics  as est\n",
        "z = [10,20,30,40]\n",
        "x = est.mean(z)\n",
        "y = est.median(z)\n",
        "print(x)\n",
        "print(y)"
      ],
      "execution_count": 2,
      "outputs": [
        {
          "output_type": "stream",
          "text": [
            "25\n",
            "25.0\n"
          ],
          "name": "stdout"
        }
      ]
    },
    {
      "cell_type": "code",
      "metadata": {
        "id": "O-Sk70HqrkSG",
        "colab_type": "code",
        "colab": {
          "base_uri": "https://localhost:8080/",
          "height": 51
        },
        "outputId": "e9c99fe8-4d1a-4713-c69b-775df711b000"
      },
      "source": [
        "from statistics import mean, median\n",
        "z = [10,20,30,40]\n",
        "x = mean(z)\n",
        "y = median(z)\n",
        "print(x)\n",
        "print(y)"
      ],
      "execution_count": 3,
      "outputs": [
        {
          "output_type": "stream",
          "text": [
            "25\n",
            "25.0\n"
          ],
          "name": "stdout"
        }
      ]
    },
    {
      "cell_type": "code",
      "metadata": {
        "id": "dKaHNDzlrkSQ",
        "colab_type": "code",
        "colab": {
          "base_uri": "https://localhost:8080/",
          "height": 51
        },
        "outputId": "c19cc529-82bb-4c97-c29c-18b2a2978db3"
      },
      "source": [
        "from statistics import *\n",
        "z = [10,20,30,40]\n",
        "x = mean(z)\n",
        "y = median(z)\n",
        "print(x)\n",
        "print(y)"
      ],
      "execution_count": 4,
      "outputs": [
        {
          "output_type": "stream",
          "text": [
            "25\n",
            "25.0\n"
          ],
          "name": "stdout"
        }
      ]
    },
    {
      "cell_type": "code",
      "metadata": {
        "id": "XslSbGTtrkSZ",
        "colab_type": "code",
        "colab": {}
      },
      "source": [
        ""
      ],
      "execution_count": null,
      "outputs": []
    }
  ]
}