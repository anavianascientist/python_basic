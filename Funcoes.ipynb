{
  "nbformat": 4,
  "nbformat_minor": 0,
  "metadata": {
    "kernelspec": {
      "display_name": "Python 3",
      "language": "python",
      "name": "python3"
    },
    "language_info": {
      "codemirror_mode": {
        "name": "ipython",
        "version": 3
      },
      "file_extension": ".py",
      "mimetype": "text/x-python",
      "name": "python",
      "nbconvert_exporter": "python",
      "pygments_lexer": "ipython3",
      "version": "3.7.6"
    },
    "colab": {
      "name": "Funcoes.ipynb",
      "provenance": [],
      "include_colab_link": true
    }
  },
  "cells": [
    {
      "cell_type": "markdown",
      "metadata": {
        "id": "view-in-github",
        "colab_type": "text"
      },
      "source": [
        "<a href=\"https://colab.research.google.com/github/anavianascientist/python_basic/blob/master/Funcoes.ipynb\" target=\"_parent\"><img src=\"https://colab.research.google.com/assets/colab-badge.svg\" alt=\"Open In Colab\"/></a>"
      ]
    },
    {
      "cell_type": "markdown",
      "metadata": {
        "id": "-A8ZPO5RsAm-",
        "colab_type": "text"
      },
      "source": [
        "#Funções"
      ]
    },
    {
      "cell_type": "code",
      "metadata": {
        "id": "W7c0ZoKpsAnK",
        "colab_type": "code",
        "colab": {
          "base_uri": "https://localhost:8080/",
          "height": 34
        },
        "outputId": "3c348020-e3d9-4986-e606-1e735b24b2ef"
      },
      "source": [
        "def imprime():\n",
        "    print(\"Esta é uma função\")\n",
        "\n",
        "imprime()"
      ],
      "execution_count": 2,
      "outputs": [
        {
          "output_type": "stream",
          "text": [
            "Esta é uma função\n"
          ],
          "name": "stdout"
        }
      ]
    },
    {
      "cell_type": "code",
      "metadata": {
        "id": "PfCGIxr3sAnl",
        "colab_type": "code",
        "colab": {
          "base_uri": "https://localhost:8080/",
          "height": 34
        },
        "outputId": "27e51ba3-6bcb-49ca-940c-31ac76514f96"
      },
      "source": [
        "#com parametro\n",
        "def imprime(n):\n",
        "    print(n)\n",
        "\n",
        "imprime(\"Impressão deste texto\")"
      ],
      "execution_count": 3,
      "outputs": [
        {
          "output_type": "stream",
          "text": [
            "Impressão deste texto\n"
          ],
          "name": "stdout"
        }
      ]
    },
    {
      "cell_type": "code",
      "metadata": {
        "id": "etNOKezcsAoB",
        "colab_type": "code",
        "colab": {
          "base_uri": "https://localhost:8080/",
          "height": 34
        },
        "outputId": "61feb96b-c941-4066-f2c2-0beaf8df3f8d"
      },
      "source": [
        "#com retorno\n",
        "def potencia(n):\n",
        "    return n * n\n",
        "\n",
        "x = potencia(4)\n",
        "print(x)"
      ],
      "execution_count": 6,
      "outputs": [
        {
          "output_type": "stream",
          "text": [
            "16\n"
          ],
          "name": "stdout"
        }
      ]
    },
    {
      "cell_type": "code",
      "metadata": {
        "id": "gAHOobCDsAoP",
        "colab_type": "code",
        "colab": {
          "base_uri": "https://localhost:8080/",
          "height": 187
        },
        "outputId": "c39b74f1-1fb9-46ce-aadf-af42963c80bf"
      },
      "source": [
        "#com valor default\n",
        "def intervalo(inic=1,fim=5):\n",
        "    for inic in range(1, fim+1):\n",
        "        print(inic)\n",
        "\n",
        "x = intervalo(1,5)\n",
        "y = intervalo()"
      ],
      "execution_count": 10,
      "outputs": [
        {
          "output_type": "stream",
          "text": [
            "1\n",
            "2\n",
            "3\n",
            "4\n",
            "5\n",
            "1\n",
            "2\n",
            "3\n",
            "4\n",
            "5\n"
          ],
          "name": "stdout"
        }
      ]
    },
    {
      "cell_type": "code",
      "metadata": {
        "id": "Vso7i_vvsAoe",
        "colab_type": "code",
        "colab": {}
      },
      "source": [
        ""
      ],
      "execution_count": null,
      "outputs": []
    }
  ]
}