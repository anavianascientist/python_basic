{
  "nbformat": 4,
  "nbformat_minor": 0,
  "metadata": {
    "colab": {
      "name": "Python2.ipynb",
      "provenance": [],
      "collapsed_sections": [],
      "authorship_tag": "ABX9TyME+eghVJBR2fS3yLLA1NgS",
      "include_colab_link": true
    },
    "kernelspec": {
      "name": "python3",
      "display_name": "Python 3"
    }
  },
  "cells": [
    {
      "cell_type": "markdown",
      "metadata": {
        "id": "view-in-github",
        "colab_type": "text"
      },
      "source": [
        "<a href=\"https://colab.research.google.com/github/anavianascientist/python_basic/blob/master/Python2.ipynb\" target=\"_parent\"><img src=\"https://colab.research.google.com/assets/colab-badge.svg\" alt=\"Open In Colab\"/></a>"
      ]
    },
    {
      "cell_type": "markdown",
      "metadata": {
        "id": "H9-3JvBKjtoA",
        "colab_type": "text"
      },
      "source": [
        "#Python : Introdução Prática à linguagem\n",
        "\n",
        "Vimos anteriormente o 'Por que?\" de estudarmos Pyhton e entramos um pouco na linguagem quando falamos sobre as variáveis. \n",
        "\n",
        "Aprender exige tempo e dedicação, por isso quando aprender algo novo, pratique, crie e recrie várias vezes, e assim você fixará o que aprendeu. \n",
        "\n",
        "## Strings\n",
        "\n",
        "É uma série de caracteres. Tudo que estiver entre aspas para Pyhton é considerado uma string. Á primeira vista é bem simples, mas pode ser usada de várias formas. \n",
        "\n",
        "Tanto faz o uso de aspas duplas ou simples:\n",
        "\n",
        "> - \"Python é uma linguagem muito legal!\"\n",
        "> - 'Pyhton é uma linguagem muito legal!'\n",
        "\n",
        "Explorando uma string:"
      ]
    },
    {
      "cell_type": "code",
      "metadata": {
        "id": "Qd0MYHGFjenS",
        "colab_type": "code",
        "colab": {
          "base_uri": "https://localhost:8080/",
          "height": 85
        },
        "outputId": "0d09cb05-a53d-4bf8-8a95-80ec2c51c3bc"
      },
      "source": [
        "#Métodos de uma String: MAIÚSCULA e minúscula\n",
        "name = 'Ana'\n",
        "print(name)\n",
        "\n",
        "print(name.upper()) #tudo maiúsculo\n",
        "print(name.lower()) #tudo minúsculo\n",
        "print(name.lower().capitalize()) #primeira letra maiuscula\n"
      ],
      "execution_count": 1,
      "outputs": [
        {
          "output_type": "stream",
          "text": [
            "Ana\n",
            "ANA\n",
            "ana\n",
            "Ana\n"
          ],
          "name": "stdout"
        }
      ]
    },
    {
      "cell_type": "code",
      "metadata": {
        "id": "ddDoZXZ8lp4p",
        "colab_type": "code",
        "colab": {
          "base_uri": "https://localhost:8080/",
          "height": 34
        },
        "outputId": "8deb690a-6a25-4758-cec8-8c048c950b4d"
      },
      "source": [
        "#Combinando ou concatenando Strings\n",
        "#Pyhton usa o símbolo ( + ) para combinar strings.\n",
        "\n",
        "name = 'Ana'\n",
        "first_name = 'Viana'\n",
        "print(name + \" \"+ first_name)"
      ],
      "execution_count": 3,
      "outputs": [
        {
          "output_type": "stream",
          "text": [
            "Ana Viana\n"
          ],
          "name": "stdout"
        }
      ]
    },
    {
      "cell_type": "markdown",
      "metadata": {
        "id": "g34JjmqnnN8a",
        "colab_type": "text"
      },
      "source": [
        "## Acrescentando espaços em branco em strings com tabulações ou quebras de linha\n",
        "\n",
        "Em programação, espaços em branco se referem a qualquer caractere que não é mostrado, como espaços, tabulações e símbolos de fim de linha.\n",
        "\n",
        "Podemos usar espaços em branco para organizar a saída de modo que ela\n",
        "seja mais legível aos usuários.\n",
        "\n"
      ]
    },
    {
      "cell_type": "code",
      "metadata": {
        "id": "ZhYNBmC7mGJ-",
        "colab_type": "code",
        "colab": {
          "base_uri": "https://localhost:8080/",
          "height": 68
        },
        "outputId": "8d8386ce-67ec-4903-de4c-0f9922ce59e8"
      },
      "source": [
        "#Adicionar espaços em branco com tabulações ou quebras de linha\n",
        "# tabulação - \\t \n",
        "# quebra de linha - \\n\n",
        "\n",
        "print('Todos os dias temos a possibilidade de vivermos uma nova história!')\n",
        "# Sem nenhuma tabulação ou quebra de linha\n",
        "print('\\tTodos os dias temos a possibilidade de \\nvivermos uma nova história!')\n",
        "#Ainda que desconfigurado na linha vemos claramente o uso do \\t e do \\n"
      ],
      "execution_count": 4,
      "outputs": [
        {
          "output_type": "stream",
          "text": [
            "Todos os dias temos a possibilidade de vivermos uma nova história!\n",
            "\tTodos os dias temos a possibilidade de \n",
            "vivermos uma nova história!\n"
          ],
          "name": "stdout"
        }
      ]
    },
    {
      "cell_type": "markdown",
      "metadata": {
        "id": "by9-JAf7njn4",
        "colab_type": "text"
      },
      "source": [
        "##Removendo espaços em branco\n",
        "Espaços em branco extras podem ser confusos em seus programas. \n",
        "Para os programadores, 'python' e 'python ' parecem praticamente iguais.\n",
        "\n",
        "Contudo, para um programa, são duas strings diferentes. Python identifica o espaço extra em 'python ' e o considera significativo, a menos que você informe o contrário.\n",
        "É importante pensar em espaços em branco, pois, com frequência, você vai querer comparar duas strings para determinar se são iguais. \n",
        "\n",
        "Por exemplo, uma situação importante pode envolver a verificação dos nomes de usuário das pessoas quando elas fizerem login em um site. Espaços em branco extras podem ser confusos em situações muito mais simples também. \n",
        "\n",
        "Felizmente, Python facilita eliminar espaços em branco extras dos dados fornecidos pelas pessoas.\n",
        "Python é capaz de encontrar espaços em branco dos lados direito e esquerdo de uma string. Para garantir que não haja espaços em branco do\n",
        "lado direito de uma string, utilize o método rstrip()."
      ]
    },
    {
      "cell_type": "code",
      "metadata": {
        "id": "8Kp4llj7nFpV",
        "colab_type": "code",
        "colab": {
          "base_uri": "https://localhost:8080/",
          "height": 52
        },
        "outputId": "0a124f40-3825-4ba5-81db-67b2109cfa0c"
      },
      "source": [
        "# Reconhecimento de espaço antes e depois da string\n",
        "linguage = ' python '\n",
        "print(linguage) # sem tirar nenhum dos espaços\n",
        "linguage.rstrip() #tira espaço da direita\n"
      ],
      "execution_count": 7,
      "outputs": [
        {
          "output_type": "stream",
          "text": [
            " python \n"
          ],
          "name": "stdout"
        },
        {
          "output_type": "execute_result",
          "data": {
            "application/vnd.google.colaboratory.intrinsic+json": {
              "type": "string"
            },
            "text/plain": [
              "'python'"
            ]
          },
          "metadata": {
            "tags": []
          },
          "execution_count": 7
        }
      ]
    },
    {
      "cell_type": "code",
      "metadata": {
        "id": "xtxMfD2jo9jn",
        "colab_type": "code",
        "colab": {
          "base_uri": "https://localhost:8080/",
          "height": 35
        },
        "outputId": "0f386208-bc2c-44ce-b239-cd37ef64c57b"
      },
      "source": [
        "linguage.lstrip() # tira espaço da esquerda\n",
        "\n"
      ],
      "execution_count": 8,
      "outputs": [
        {
          "output_type": "execute_result",
          "data": {
            "application/vnd.google.colaboratory.intrinsic+json": {
              "type": "string"
            },
            "text/plain": [
              "'python '"
            ]
          },
          "metadata": {
            "tags": []
          },
          "execution_count": 8
        }
      ]
    },
    {
      "cell_type": "code",
      "metadata": {
        "id": "HUbd_qR_pAaA",
        "colab_type": "code",
        "colab": {
          "base_uri": "https://localhost:8080/",
          "height": 35
        },
        "outputId": "5d33b9d2-72da-4e15-ba05-d06003896f8b"
      },
      "source": [
        "linguage.strip() # tira espaço dos dois lados"
      ],
      "execution_count": 9,
      "outputs": [
        {
          "output_type": "execute_result",
          "data": {
            "application/vnd.google.colaboratory.intrinsic+json": {
              "type": "string"
            },
            "text/plain": [
              "'python'"
            ]
          },
          "metadata": {
            "tags": []
          },
          "execution_count": 9
        }
      ]
    },
    {
      "cell_type": "markdown",
      "metadata": {
        "id": "dW5BV11ApHui",
        "colab_type": "text"
      },
      "source": [
        "##Evitando erros de sintaxe com strings\n",
        "\n",
        "Um tipo de erro que você poderá ver com certa regularidade é um erro de sintaxe. Um erro de sintaxe ocorre quando Python não reconhece uma seção de seu programa como um código Python válido. \n",
        "\n",
        "Por exemplo, se usar um apóstrofo entre aspas simples, você produzirá um erro. Isso acontece porque Python interpreta tudo que estiver entre a primeira aspa\n",
        "simples e o apóstrofo como uma string. Ele então tenta interpretar o restante do texto como código Python, o que causa erros."
      ]
    },
    {
      "cell_type": "code",
      "metadata": {
        "id": "jbC-yjygpfrc",
        "colab_type": "code",
        "colab": {
          "base_uri": "https://localhost:8080/",
          "height": 129
        },
        "outputId": "ecff6156-db8c-46af-c503-927eeadae6a0"
      },
      "source": [
        "# Essa sintaxe dará erro por causa do apóstrofo:\n",
        "\n",
        "print('Quero passar as férias em Arraial d'Ajuda!')"
      ],
      "execution_count": 11,
      "outputs": [
        {
          "output_type": "error",
          "ename": "SyntaxError",
          "evalue": "ignored",
          "traceback": [
            "\u001b[0;36m  File \u001b[0;32m\"<ipython-input-11-d1f07b1ef1ad>\"\u001b[0;36m, line \u001b[0;32m3\u001b[0m\n\u001b[0;31m    print('Quero passar as férias em Arraial d'Ajuda!')\u001b[0m\n\u001b[0m                                                   ^\u001b[0m\n\u001b[0;31mSyntaxError\u001b[0m\u001b[0;31m:\u001b[0m invalid syntax\n"
          ]
        }
      ]
    },
    {
      "cell_type": "code",
      "metadata": {
        "id": "xPgLBBjqpnba",
        "colab_type": "code",
        "colab": {
          "base_uri": "https://localhost:8080/",
          "height": 34
        },
        "outputId": "6f15b12b-8742-4dd2-b8c7-eddf8b208016"
      },
      "source": [
        "# O uso de aspas simples não permite que o interpretador entenda o que você \n",
        "# quer dizer, mas veja agora como ficará se usarmos aspas duplas:\n",
        "print(\"Quero passar as férias em Arraial d'Ajuda!\")\n",
        "\n",
        "# O código compilará de forma bem tranquila"
      ],
      "execution_count": 12,
      "outputs": [
        {
          "output_type": "stream",
          "text": [
            "Quero passar as férias em Arraial d'Ajuda!\n"
          ],
          "name": "stdout"
        }
      ]
    },
    {
      "cell_type": "markdown",
      "metadata": {
        "id": "wvRyDry5qyTD",
        "colab_type": "text"
      },
      "source": [
        " *O recurso de destaque de sintaxe de seu editor deve ajudar você a identificar\n",
        "alguns erros de sintaxe rapidamente quando escrever seus programas. Se você\n",
        "vir código Python em destaque como se fosse inglês, ou inglês destacado como\n",
        "se fosse código Python, é provável que haja uma aspa sem correspondente em\n",
        "algum ponto de seu arquivo.*"
      ]
    },
    {
      "cell_type": "code",
      "metadata": {
        "id": "baozU67Iq_bn",
        "colab_type": "code",
        "colab": {}
      },
      "source": [
        ""
      ],
      "execution_count": null,
      "outputs": []
    }
  ]
}