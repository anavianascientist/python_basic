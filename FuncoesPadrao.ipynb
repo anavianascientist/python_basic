{
  "nbformat": 4,
  "nbformat_minor": 0,
  "metadata": {
    "kernelspec": {
      "display_name": "Python 3",
      "language": "python",
      "name": "python3"
    },
    "language_info": {
      "codemirror_mode": {
        "name": "ipython",
        "version": 3
      },
      "file_extension": ".py",
      "mimetype": "text/x-python",
      "name": "python",
      "nbconvert_exporter": "python",
      "pygments_lexer": "ipython3",
      "version": "3.7.6"
    },
    "colab": {
      "name": "FuncoesPadrao.ipynb",
      "provenance": [],
      "include_colab_link": true
    }
  },
  "cells": [
    {
      "cell_type": "markdown",
      "metadata": {
        "id": "view-in-github",
        "colab_type": "text"
      },
      "source": [
        "<a href=\"https://colab.research.google.com/github/anavianascientist/python_basic/blob/master/FuncoesPadrao.ipynb\" target=\"_parent\"><img src=\"https://colab.research.google.com/assets/colab-badge.svg\" alt=\"Open In Colab\"/></a>"
      ]
    },
    {
      "cell_type": "markdown",
      "metadata": {
        "id": "yezhayqvszyF",
        "colab_type": "text"
      },
      "source": [
        "#Funções Padrão"
      ]
    },
    {
      "cell_type": "code",
      "metadata": {
        "id": "VDP_VwADszyV",
        "colab_type": "code",
        "colab": {
          "base_uri": "https://localhost:8080/",
          "height": 102
        },
        "outputId": "6a1ab21d-1342-407c-e1c2-5e31e0cc0190"
      },
      "source": [
        "#funções internas\n",
        "print(abs(-200))\n",
        "lst = [1,2,30,30,45]\n",
        "print(\"Maior valor: \", max(lst))\n",
        "print(\"Menor valor: \", min(lst))\n",
        "print(\"Soma: \", sum(lst))\n",
        "print(\"Arredondamento: \", round(2.34567,2))"
      ],
      "execution_count": 1,
      "outputs": [
        {
          "output_type": "stream",
          "text": [
            "200\n",
            "Maior valor:  45\n",
            "Menor valor:  1\n",
            "Soma:  108\n",
            "Arredondamento:  2.35\n"
          ],
          "name": "stdout"
        }
      ]
    },
    {
      "cell_type": "code",
      "metadata": {
        "id": "Crc7Lrx1szzS",
        "colab_type": "code",
        "colab": {
          "base_uri": "https://localhost:8080/",
          "height": 68
        },
        "outputId": "820ed16b-b61d-4fcf-b592-f27d1a88f2b5"
      },
      "source": [
        "#statistica\n",
        "from statistics import *\n",
        "print(\"Média: \", mean(lst))\n",
        "print(\"Mediana: \", median(lst))\n",
        "print(\"Moda: \", mode(lst))"
      ],
      "execution_count": 2,
      "outputs": [
        {
          "output_type": "stream",
          "text": [
            "Média:  21.6\n",
            "Mediana:  30\n",
            "Moda:  30\n"
          ],
          "name": "stdout"
        }
      ]
    },
    {
      "cell_type": "code",
      "metadata": {
        "id": "LmDecEasszzk",
        "colab_type": "code",
        "colab": {
          "base_uri": "https://localhost:8080/",
          "height": 34
        },
        "outputId": "0497a181-215f-4c08-ef04-51c27190342c"
      },
      "source": [
        "#desvio padrão da amostra\n",
        "print(\"Desvio padrão: \", stdev(lst))"
      ],
      "execution_count": 3,
      "outputs": [
        {
          "output_type": "stream",
          "text": [
            "Desvio padrão:  19.346834366376324\n"
          ],
          "name": "stdout"
        }
      ]
    },
    {
      "cell_type": "code",
      "metadata": {
        "id": "jRDRL7wuszzs",
        "colab_type": "code",
        "colab": {
          "base_uri": "https://localhost:8080/",
          "height": 34
        },
        "outputId": "c0841e21-0425-443a-9418-875869eff36f"
      },
      "source": [
        "#variancia da amostra\n",
        "print(\"Variância: \", variance(lst))"
      ],
      "execution_count": 4,
      "outputs": [
        {
          "output_type": "stream",
          "text": [
            "Variância:  374.3\n"
          ],
          "name": "stdout"
        }
      ]
    },
    {
      "cell_type": "code",
      "metadata": {
        "id": "KUtXU-EBszz1",
        "colab_type": "code",
        "colab": {
          "base_uri": "https://localhost:8080/",
          "height": 306
        },
        "outputId": "46804cf4-962f-42f0-dd83-b5301f0046ec"
      },
      "source": [
        "from numpy import *\n",
        "a = random.random((8,8))\n",
        "print(type(a))\n",
        "print(a)"
      ],
      "execution_count": 5,
      "outputs": [
        {
          "output_type": "stream",
          "text": [
            "<class 'numpy.ndarray'>\n",
            "[[0.84717202 0.2983664  0.29241155 0.83333843 0.57589163 0.11103295\n",
            "  0.60529778 0.77308806]\n",
            " [0.42810472 0.08076853 0.65616336 0.42791286 0.31850144 0.82077901\n",
            "  0.55195029 0.13961531]\n",
            " [0.24524164 0.73097441 0.32491766 0.02885033 0.67703997 0.91573124\n",
            "  0.79232744 0.03707762]\n",
            " [0.75455718 0.69398067 0.54706323 0.44500125 0.95933719 0.12374857\n",
            "  0.27731614 0.15462993]\n",
            " [0.45960778 0.88045927 0.57421735 0.26363495 0.78865936 0.0807148\n",
            "  0.47473463 0.93174653]\n",
            " [0.41313306 0.72340673 0.48714083 0.67185356 0.43940415 0.84977387\n",
            "  0.26518124 0.97142457]\n",
            " [0.19665208 0.0775494  0.78924873 0.88674989 0.30906187 0.30066832\n",
            "  0.4046256  0.02240027]\n",
            " [0.27433267 0.33849879 0.88719709 0.98564953 0.30000097 0.27017953\n",
            "  0.71041646 0.22410802]]\n"
          ],
          "name": "stdout"
        }
      ]
    },
    {
      "cell_type": "code",
      "metadata": {
        "id": "D-eFigiLszz9",
        "colab_type": "code",
        "colab": {}
      },
      "source": [
        ""
      ],
      "execution_count": null,
      "outputs": []
    }
  ]
}