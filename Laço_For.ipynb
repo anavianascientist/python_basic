{
  "nbformat": 4,
  "nbformat_minor": 0,
  "metadata": {
    "colab": {
      "name": "Laço_For.ipynb",
      "provenance": [],
      "collapsed_sections": [],
      "authorship_tag": "ABX9TyNSdYIwEYW6Of32KqjcLM38",
      "include_colab_link": true
    },
    "kernelspec": {
      "name": "python3",
      "display_name": "Python 3"
    }
  },
  "cells": [
    {
      "cell_type": "markdown",
      "metadata": {
        "id": "view-in-github",
        "colab_type": "text"
      },
      "source": [
        "<a href=\"https://colab.research.google.com/github/anavianascientist/python_basic/blob/master/La%C3%A7o_For.ipynb\" target=\"_parent\"><img src=\"https://colab.research.google.com/assets/colab-badge.svg\" alt=\"Open In Colab\"/></a>"
      ]
    },
    {
      "cell_type": "markdown",
      "metadata": {
        "id": "cvBCCOQa1TQ6",
        "colab_type": "text"
      },
      "source": [
        "#Python : Laços For\n",
        "\n",
        "Através do laço *for* temos a possibilidade de percorrer uma lista inteira.\n",
        "\n",
        "\n"
      ]
    },
    {
      "cell_type": "code",
      "metadata": {
        "id": "zB3LNX5l0ggA",
        "colab_type": "code",
        "colab": {
          "base_uri": "https://localhost:8080/",
          "height": 102
        },
        "outputId": "9d8cb14d-1f74-46d6-be1f-e8029b503782"
      },
      "source": [
        "convidados = ['Ana', 'José', 'Maria', 'Antonio', 'Mateus']\n",
        "for convidado in convidados:\n",
        "    print(convidado)"
      ],
      "execution_count": 4,
      "outputs": [
        {
          "output_type": "stream",
          "text": [
            "Ana\n",
            "José\n",
            "Maria\n",
            "Antonio\n",
            "Mateus\n"
          ],
          "name": "stdout"
        }
      ]
    },
    {
      "cell_type": "markdown",
      "metadata": {
        "id": "D19OBexA3FnE",
        "colab_type": "text"
      },
      "source": [
        "## Conceito\n",
        "\n",
        "Em um laço simples como fizemos com a lista de convidados,\n",
        "Python inicialmente lê a primeira linha do laço:\n",
        "\n",
        "*for convidados in convidados:*\n",
        "\n",
        "Sendo que essa linha diz a Python para extrair o primeiro nome da lista (Ana) e armazena na variável convidado. Então o interpretador lê a próxima linha:\n",
        "\n",
        "*print(convidado)*\n",
        "\n",
        "Logo, o interpretador exibe o único valor existente da lista que é Ana. E retorna à primeira linha do laço:\n",
        "\n",
        "*for convidados in convidados:*\n",
        "\n",
        "E aí Pyhton recupera o segundo valor da lista (José) e também armazena na variável convidado. E parte para a próxima linha:\n",
        "\n",
        "*print(convidado)*\n",
        "\n",
        "E assim ele faz sucessivamente até acessar o último valor da lista. E como não tem mais nada após o laço for, ele termina.\n",
        "\n",
        "Ao usar laços for pela primeira vez, saiba:\n",
        "\n",
        ">> - o conjunto de passos será repetido;\n",
        ">> - a variável temporária pode receber qualquer nome;\n",
        ">> - convenção: nome singular para nomes no plural;\n"
      ]
    },
    {
      "cell_type": "code",
      "metadata": {
        "id": "hcfrTHxH5QQp",
        "colab_type": "code",
        "colab": {
          "base_uri": "https://localhost:8080/",
          "height": 102
        },
        "outputId": "9bc0f6f4-f0e7-4b6a-ec0b-4d97edba4c2e"
      },
      "source": [
        "# Mais tarefas com laço For\n",
        "convidados = ['Ana', 'José', 'Maria', 'Antonio', 'Mateus']\n",
        "for convidado in convidados:\n",
        "    print(convidado.title() + ', conto com a sua presença!')"
      ],
      "execution_count": 6,
      "outputs": [
        {
          "output_type": "stream",
          "text": [
            "Ana, conto com a sua presença!\n",
            "José, conto com a sua presença!\n",
            "Maria, conto com a sua presença!\n",
            "Antonio, conto com a sua presença!\n",
            "Mateus, conto com a sua presença!\n"
          ],
          "name": "stdout"
        }
      ]
    },
    {
      "cell_type": "code",
      "metadata": {
        "id": "WBdlPGUx5plL",
        "colab_type": "code",
        "colab": {
          "base_uri": "https://localhost:8080/",
          "height": 272
        },
        "outputId": "f1fe657f-ead2-4b31-fe6d-5ac36c0996cc"
      },
      "source": [
        "# Toda linha indentada após o for é considerada dentro do laço\n",
        "convidados = ['Ana', 'José', 'Maria', 'Antonio', 'Mateus']\n",
        "for convidado in convidados:\n",
        "    print(convidado.title() + ', conto com a sua presença!')\n",
        "    print('No dia do meu aniverário quero sua alegria ' + convidado.title() + '.\\n')\n"
      ],
      "execution_count": 7,
      "outputs": [
        {
          "output_type": "stream",
          "text": [
            "Ana, conto com a sua presença!\n",
            "No dia do meu aniverário quero sua alegria Ana.\n",
            "\n",
            "José, conto com a sua presença!\n",
            "No dia do meu aniverário quero sua alegria José.\n",
            "\n",
            "Maria, conto com a sua presença!\n",
            "No dia do meu aniverário quero sua alegria Maria.\n",
            "\n",
            "Antonio, conto com a sua presença!\n",
            "No dia do meu aniverário quero sua alegria Antonio.\n",
            "\n",
            "Mateus, conto com a sua presença!\n",
            "No dia do meu aniverário quero sua alegria Mateus.\n",
            "\n"
          ],
          "name": "stdout"
        }
      ]
    },
    {
      "cell_type": "code",
      "metadata": {
        "id": "vTS4LvDs3E8T",
        "colab_type": "code",
        "colab": {
          "base_uri": "https://localhost:8080/",
          "height": 289
        },
        "outputId": "d1aef069-7abb-43c4-f0e1-e1a4668b85a3"
      },
      "source": [
        "# Linha após o laço for não indentada será executada apenas uma vez\n",
        "convidados = ['Ana', 'José', 'Maria', 'Antonio', 'Mateus']\n",
        "for convidado in convidados:\n",
        "    print(convidado.title() + ', conto com a sua presença!')\n",
        "    print('No dia do meu aniverário quero sua alegria ' + convidado.title() + '.\\n')\n",
        "print('É muito bom comemorar com voces!!!')\n"
      ],
      "execution_count": 8,
      "outputs": [
        {
          "output_type": "stream",
          "text": [
            "Ana, conto com a sua presença!\n",
            "No dia do meu aniverário quero sua alegria Ana.\n",
            "\n",
            "José, conto com a sua presença!\n",
            "No dia do meu aniverário quero sua alegria José.\n",
            "\n",
            "Maria, conto com a sua presença!\n",
            "No dia do meu aniverário quero sua alegria Maria.\n",
            "\n",
            "Antonio, conto com a sua presença!\n",
            "No dia do meu aniverário quero sua alegria Antonio.\n",
            "\n",
            "Mateus, conto com a sua presença!\n",
            "No dia do meu aniverário quero sua alegria Mateus.\n",
            "\n",
            "É muito bom comemorar com voces!!!\n"
          ],
          "name": "stdout"
        }
      ]
    },
    {
      "cell_type": "markdown",
      "metadata": {
        "id": "3UQcIVAD61Cb",
        "colab_type": "text"
      },
      "source": [
        "## Evitando erros de indentação\n",
        "\n",
        "O uso de indentação por Python deixa o código bem fácil de ler. Basicamente, Python usa espaços em branco para\n",
        "forçar você a escrever um código formatado de modo organizado, com uma estrutura visual clara. Em programas Python mais longos, você perceberá que há blocos de código indentados em alguns níveis diferentes.\n",
        "Esses níveis de indentação ajudam a ter uma noção geral da organização do programa como um todo."
      ]
    },
    {
      "cell_type": "code",
      "metadata": {
        "id": "ZG6wmqio6oZr",
        "colab_type": "code",
        "colab": {
          "base_uri": "https://localhost:8080/",
          "height": 129
        },
        "outputId": "597c3a34-46e8-47c3-df7d-588987b1d4ee"
      },
      "source": [
        "amigos = ['Felipe', 'Joao', 'Lucas', 'Marcos', 'Angelo']\n",
        "for amigo in amigos:\n",
        "print(amigo) # sem indentação após o for o Python avisará"
      ],
      "execution_count": 9,
      "outputs": [
        {
          "output_type": "error",
          "ename": "IndentationError",
          "evalue": "ignored",
          "traceback": [
            "\u001b[0;36m  File \u001b[0;32m\"<ipython-input-9-03119bf4e38b>\"\u001b[0;36m, line \u001b[0;32m3\u001b[0m\n\u001b[0;31m    print(amigo) # sem indentação após o for o Python avisará\u001b[0m\n\u001b[0m        ^\u001b[0m\n\u001b[0;31mIndentationError\u001b[0m\u001b[0;31m:\u001b[0m expected an indented block\n"
          ]
        }
      ]
    },
    {
      "cell_type": "code",
      "metadata": {
        "id": "xQe3Ou_37oW1",
        "colab_type": "code",
        "colab": {
          "base_uri": "https://localhost:8080/",
          "height": 102
        },
        "outputId": "4563a12c-ffcc-44a6-836c-7caa839126a0"
      },
      "source": [
        "amigos = ['Felipe', 'Joao', 'Lucas', 'Marcos', 'Angelo']\n",
        "for amigo in amigos:\n",
        "  print(amigo) # com indentação"
      ],
      "execution_count": 10,
      "outputs": [
        {
          "output_type": "stream",
          "text": [
            "Felipe\n",
            "Joao\n",
            "Lucas\n",
            "Marcos\n",
            "Angelo\n"
          ],
          "name": "stdout"
        }
      ]
    },
    {
      "cell_type": "code",
      "metadata": {
        "id": "Ys8GsdNW774d",
        "colab_type": "code",
        "colab": {
          "base_uri": "https://localhost:8080/",
          "height": 119
        },
        "outputId": "d8df351c-5e0f-4f9e-94f8-d057fc49179d"
      },
      "source": [
        "amigos = ['Felipe', 'Joao', 'Lucas', 'Marcos', 'Angelo']\n",
        "for amigo in amigos:\n",
        "  print(amigo)\n",
        "print(\"Obrigada por ser meu amigo, \" + amigo.title() + '!')\n",
        "\n",
        "\"\"\"Nesse caso não tivemos erro do Pyhton, por que?\n",
        "Porque Python entendeu que o loop acabou e que deveria\n",
        "apenas executar a última linha e terminar \"\"\""
      ],
      "execution_count": 11,
      "outputs": [
        {
          "output_type": "stream",
          "text": [
            "Felipe\n",
            "Joao\n",
            "Lucas\n",
            "Marcos\n",
            "Angelo\n",
            "Obrigada por ser meu amigo, Angelo!\n"
          ],
          "name": "stdout"
        }
      ]
    },
    {
      "cell_type": "code",
      "metadata": {
        "id": "cdG0GQ3f8fCF",
        "colab_type": "code",
        "colab": {
          "base_uri": "https://localhost:8080/",
          "height": 187
        },
        "outputId": "81a7e971-1e89-4139-9d0a-98019fba430d"
      },
      "source": [
        "# Linha de código identada Python que ela pertence ao laço e percorre todos os itens\n",
        "# da lista e executa o codigo\n",
        "amigos = ['Felipe', 'Joao', 'Lucas', 'Marcos', 'Angelo']\n",
        "for amigo in amigos:\n",
        "  print(amigo)\n",
        "  print(\"Obrigada por ser meu amigo, \" + amigo.title() + '!')\n",
        "\n"
      ],
      "execution_count": 12,
      "outputs": [
        {
          "output_type": "stream",
          "text": [
            "Felipe\n",
            "Obrigada por ser meu amigo, Felipe!\n",
            "Joao\n",
            "Obrigada por ser meu amigo, Joao!\n",
            "Lucas\n",
            "Obrigada por ser meu amigo, Lucas!\n",
            "Marcos\n",
            "Obrigada por ser meu amigo, Marcos!\n",
            "Angelo\n",
            "Obrigada por ser meu amigo, Angelo!\n"
          ],
          "name": "stdout"
        }
      ]
    },
    {
      "cell_type": "code",
      "metadata": {
        "id": "kI62Ak1u80mX",
        "colab_type": "code",
        "colab": {
          "base_uri": "https://localhost:8080/",
          "height": 129
        },
        "outputId": "b71a2193-b2c5-4193-91eb-5a805ae0e54c"
      },
      "source": [
        "# Identação desnecessária tambem gera erro\n",
        "mensagem = \"Identar sem precisar causa erro também.\"\n",
        "   print(mensagem)"
      ],
      "execution_count": 14,
      "outputs": [
        {
          "output_type": "error",
          "ename": "IndentationError",
          "evalue": "ignored",
          "traceback": [
            "\u001b[0;36m  File \u001b[0;32m\"<ipython-input-14-4ef0472b8cef>\"\u001b[0;36m, line \u001b[0;32m3\u001b[0m\n\u001b[0;31m    print(mensagem)\u001b[0m\n\u001b[0m    ^\u001b[0m\n\u001b[0;31mIndentationError\u001b[0m\u001b[0;31m:\u001b[0m unexpected indent\n"
          ]
        }
      ]
    },
    {
      "cell_type": "code",
      "metadata": {
        "id": "4DyoUnNZ9UjF",
        "colab_type": "code",
        "colab": {
          "base_uri": "https://localhost:8080/",
          "height": 129
        },
        "outputId": "3f8d187e-4a44-460f-d97d-76e2ad59e6c3"
      },
      "source": [
        "#Esquecendo os dois pontos\n",
        "amigos = ['Felipe', 'Joao', 'Lucas', 'Marcos', 'Angelo']\n",
        "for amigo in amigos  # erro de sintaxe por falta de :\n",
        "  print(amigo)\n"
      ],
      "execution_count": 15,
      "outputs": [
        {
          "output_type": "error",
          "ename": "SyntaxError",
          "evalue": "ignored",
          "traceback": [
            "\u001b[0;36m  File \u001b[0;32m\"<ipython-input-15-463e1268b611>\"\u001b[0;36m, line \u001b[0;32m3\u001b[0m\n\u001b[0;31m    for amigo in amigos\u001b[0m\n\u001b[0m                       ^\u001b[0m\n\u001b[0;31mSyntaxError\u001b[0m\u001b[0;31m:\u001b[0m invalid syntax\n"
          ]
        }
      ]
    },
    {
      "cell_type": "code",
      "metadata": {
        "id": "3oZA-Wo79eKI",
        "colab_type": "code",
        "colab": {
          "base_uri": "https://localhost:8080/",
          "height": 102
        },
        "outputId": "61a6901b-652a-4a31-b4ab-ef4c07f6966b"
      },
      "source": [
        "# Sintaxe correta com os :\n",
        "amigos = ['Felipe', 'Joao', 'Lucas', 'Marcos', 'Angelo']\n",
        "for amigo in amigos:\n",
        "  print(amigo)\n"
      ],
      "execution_count": 17,
      "outputs": [
        {
          "output_type": "stream",
          "text": [
            "Felipe\n",
            "Joao\n",
            "Lucas\n",
            "Marcos\n",
            "Angelo\n"
          ],
          "name": "stdout"
        }
      ]
    },
    {
      "cell_type": "markdown",
      "metadata": {
        "id": "GRImsx6b9zAH",
        "colab_type": "text"
      },
      "source": [
        "## Listas Numéricas\n",
        "\n",
        "Muitos são os motivos para armazenar números em uma lista.\n",
        "\n",
        ">> - guardar a posição de cada personagem em um jogo;\n",
        ">> - registros de uma pontuação;\n",
        ">> - análise de dados;\n",
        ">> - tamanhos de população;\n",
        ">> - valores de latitude e longitude;\n",
        ">> - e outros tipos de conjuntos numéricos.\n",
        "\n"
      ]
    },
    {
      "cell_type": "code",
      "metadata": {
        "id": "KNrCYX2h_V4c",
        "colab_type": "code",
        "colab": {
          "base_uri": "https://localhost:8080/",
          "height": 85
        },
        "outputId": "b4036c19-386c-4407-ca9c-8d94283167c5"
      },
      "source": [
        "# Funçao Range() facilita gerar uma série de números\n",
        "for value in range(1,5):\n",
        "  print(value)"
      ],
      "execution_count": 18,
      "outputs": [
        {
          "output_type": "stream",
          "text": [
            "1\n",
            "2\n",
            "3\n",
            "4\n"
          ],
          "name": "stdout"
        }
      ]
    },
    {
      "cell_type": "code",
      "metadata": {
        "id": "8V_ajZ769we4",
        "colab_type": "code",
        "colab": {
          "base_uri": "https://localhost:8080/",
          "height": 34
        },
        "outputId": "8aaa8268-26a0-4f72-c8b3-7dd59643d6ca"
      },
      "source": [
        "# Criando uma lista a partir da função range()\n",
        "numeros = (list(range(1,8)))\n",
        "print(numeros)"
      ],
      "execution_count": 19,
      "outputs": [
        {
          "output_type": "stream",
          "text": [
            "[1, 2, 3, 4, 5, 6, 7]\n"
          ],
          "name": "stdout"
        }
      ]
    },
    {
      "cell_type": "code",
      "metadata": {
        "id": "4Vf2N4Jc_51y",
        "colab_type": "code",
        "colab": {
          "base_uri": "https://localhost:8080/",
          "height": 34
        },
        "outputId": "0276c86f-51f1-44ca-ae38-0ee5023b559e"
      },
      "source": [
        "# Pela função range() indicamos para Python ignorar alguns números no intervalo\n",
        "intervalo = list(range(2,15,2)) #Começa em 2, a esse valor soma repetidamente 2 até 16\n",
        "print(intervalo)"
      ],
      "execution_count": null,
      "outputs": [
        {
          "output_type": "stream",
          "text": [
            "[2, 4, 6, 8, 10, 12, 14]\n"
          ],
          "name": "stdout"
        }
      ]
    },
    {
      "cell_type": "code",
      "metadata": {
        "id": "KyWJEsSmAoLU",
        "colab_type": "code",
        "colab": {
          "base_uri": "https://localhost:8080/",
          "height": 34
        },
        "outputId": "0550ed65-799a-40d7-9265-30d9cf38fb59"
      },
      "source": [
        "# Lista que retorne numeros com quadrado perfeito até 100\n",
        "quadrados = []\n",
        "for value in range(1,11):\n",
        "  quadrado = value**2\n",
        "  quadrados.append(quadrado)\n",
        "print(quadrados)\n"
      ],
      "execution_count": 22,
      "outputs": [
        {
          "output_type": "stream",
          "text": [
            "[1, 4, 9, 16, 25, 36, 49, 64, 81, 100]\n"
          ],
          "name": "stdout"
        }
      ]
    },
    {
      "cell_type": "code",
      "metadata": {
        "id": "fL-Q4gp3Bh4v",
        "colab_type": "code",
        "colab": {
          "base_uri": "https://localhost:8080/",
          "height": 34
        },
        "outputId": "e0234ba5-f6cb-4bc9-ea1f-6bb247f0127a"
      },
      "source": [
        "# Mesmo resultado com código direto\n",
        "quadrados = []\n",
        "for value in range(1,11):\n",
        "  quadrados.append(value**2)\n",
        "print(quadrados)"
      ],
      "execution_count": 23,
      "outputs": [
        {
          "output_type": "stream",
          "text": [
            "[1, 4, 9, 16, 25, 36, 49, 64, 81, 100]\n"
          ],
          "name": "stdout"
        }
      ]
    },
    {
      "cell_type": "code",
      "metadata": {
        "id": "5eTfDh5BB5l3",
        "colab_type": "code",
        "colab": {
          "base_uri": "https://localhost:8080/",
          "height": 34
        },
        "outputId": "6bfe2d13-0dd2-40ca-b90c-eef2c76cf22c"
      },
      "source": [
        "# Algumas funções para números em Pyhton\n",
        "digitos = [1,2,3,4,5,6]\n",
        "min(digitos)\n",
        "\n",
        "\"\"\"Os exemplos que utilizamos de listas pequenas de números para que\n",
        "caibam facilmente. Esses exemplos também funcionarão bem se sua\n",
        "lista contiver um milhão de números ou mais.\"\"\"\n"
      ],
      "execution_count": 25,
      "outputs": [
        {
          "output_type": "execute_result",
          "data": {
            "text/plain": [
              "1"
            ]
          },
          "metadata": {
            "tags": []
          },
          "execution_count": 25
        }
      ]
    },
    {
      "cell_type": "code",
      "metadata": {
        "id": "M43yw3DfCXGu",
        "colab_type": "code",
        "colab": {
          "base_uri": "https://localhost:8080/",
          "height": 34
        },
        "outputId": "0ee13570-e0ce-4e91-c4c4-817fd810adcb"
      },
      "source": [
        "max(digitos)"
      ],
      "execution_count": 26,
      "outputs": [
        {
          "output_type": "execute_result",
          "data": {
            "text/plain": [
              "6"
            ]
          },
          "metadata": {
            "tags": []
          },
          "execution_count": 26
        }
      ]
    },
    {
      "cell_type": "code",
      "metadata": {
        "id": "BAHmX8wwCYdT",
        "colab_type": "code",
        "colab": {
          "base_uri": "https://localhost:8080/",
          "height": 34
        },
        "outputId": "9937fc90-f517-435f-8ace-cc0dd28d9658"
      },
      "source": [
        "sum(digitos)"
      ],
      "execution_count": 27,
      "outputs": [
        {
          "output_type": "execute_result",
          "data": {
            "text/plain": [
              "21"
            ]
          },
          "metadata": {
            "tags": []
          },
          "execution_count": 27
        }
      ]
    },
    {
      "cell_type": "markdown",
      "metadata": {
        "id": "2BIqqLgdC3gQ",
        "colab_type": "text"
      },
      "source": [
        "## List Comprehensions\n",
        "\n",
        "Combina o laço for e a criação de novos elementos em uma linha, e concatena cada novo elemento automaticamente.\n"
      ]
    },
    {
      "cell_type": "code",
      "metadata": {
        "id": "MrdzIc_5Cbxk",
        "colab_type": "code",
        "colab": {
          "base_uri": "https://localhost:8080/",
          "height": 34
        },
        "outputId": "7d66a727-25ea-47ed-aba8-53f6727a86b6"
      },
      "source": [
        "nome = [value**2 for value in range(1,11) ]\n",
        "print(nome)\n",
        "\n"
      ],
      "execution_count": 29,
      "outputs": [
        {
          "output_type": "stream",
          "text": [
            "[1, 4, 9, 16, 25, 36, 49, 64, 81, 100]\n"
          ],
          "name": "stdout"
        }
      ]
    },
    {
      "cell_type": "markdown",
      "metadata": {
        "id": "ZlQt0QqrOO0w",
        "colab_type": "text"
      },
      "source": [
        "Escrever suas próprias list comprehensions exige um pouco de prática, mas você verá que vale a pena conhecê-las depois que se sentir à vontade para criar listas comuns. Quando escrever três ou quatro linhas de código\n",
        "para gerar listas e isso começar a parecer repetitivo, considere escrever suas próprias list comprehensions."
      ]
    }
  ]
}