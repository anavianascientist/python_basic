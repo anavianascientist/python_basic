{
  "nbformat": 4,
  "nbformat_minor": 0,
  "metadata": {
    "colab": {
      "name": "Números.ipynb",
      "provenance": [],
      "collapsed_sections": [],
      "authorship_tag": "ABX9TyN/V2AhyaGkqfqZm/JAFTYp",
      "include_colab_link": true
    },
    "kernelspec": {
      "name": "python3",
      "display_name": "Python 3"
    }
  },
  "cells": [
    {
      "cell_type": "markdown",
      "metadata": {
        "id": "view-in-github",
        "colab_type": "text"
      },
      "source": [
        "<a href=\"https://colab.research.google.com/github/anavianascientist/python_basic/blob/master/N%C3%BAmeros.ipynb\" target=\"_parent\"><img src=\"https://colab.research.google.com/assets/colab-badge.svg\" alt=\"Open In Colab\"/></a>"
      ]
    },
    {
      "cell_type": "code",
      "metadata": {
        "id": "0ZtQQZz_rsJ2",
        "colab_type": "code",
        "colab": {}
      },
      "source": [
        ""
      ],
      "execution_count": null,
      "outputs": []
    },
    {
      "cell_type": "markdown",
      "metadata": {
        "id": "QpgfGo3XrvhP",
        "colab_type": "text"
      },
      "source": [
        "# Python : NÚMEROS\n",
        "\n",
        "Anteriormente fizemos a introdução sobre as [variáveis](https://github.com/anavianascientist/python_basic/blob/master/Python1.ipynb) e sobre as [Strings](https://github.com/anavianascientist/python_basic/blob/master/Python2.ipynb), hoje vamos aprender e praticar Números em Python!\n",
        "\n",
        "Usados com muita frequência, Números são usados para pountuação em jogos, representar dados em visualizações e outros tantos.\n",
        "\n",
        "Pyhton também trata os números de forma diferente, depende do modo como são usados. Os tipos são:\n",
        "\n",
        "> - Inteiros;\n",
        "> - Float;\n",
        "> - Bool;\n",
        "> - Complex;\n",
        "\n",
        "Entender cada um, e principalmente, como trabalhar e tratar cada um é o que faremos agora.\n",
        "\n"
      ]
    },
    {
      "cell_type": "code",
      "metadata": {
        "id": "ZpaPrdsot5Fn",
        "colab_type": "code",
        "colab": {
          "base_uri": "https://localhost:8080/",
          "height": 34
        },
        "outputId": "f08d1bfd-de95-430a-d10d-197287066384"
      },
      "source": [
        "# Inteiros : Pode somar, subtrair, multiplica e dividir \n",
        "2 + 3\n"
      ],
      "execution_count": 3,
      "outputs": [
        {
          "output_type": "execute_result",
          "data": {
            "text/plain": [
              "5"
            ]
          },
          "metadata": {
            "tags": []
          },
          "execution_count": 3
        }
      ]
    },
    {
      "cell_type": "code",
      "metadata": {
        "id": "garY4lhAsVD0",
        "colab_type": "code",
        "colab": {
          "base_uri": "https://localhost:8080/",
          "height": 34
        },
        "outputId": "ccfbb349-a77d-4a33-a344-e02f861097e9"
      },
      "source": [
        "2 * 3\n"
      ],
      "execution_count": 4,
      "outputs": [
        {
          "output_type": "execute_result",
          "data": {
            "text/plain": [
              "6"
            ]
          },
          "metadata": {
            "tags": []
          },
          "execution_count": 4
        }
      ]
    },
    {
      "cell_type": "code",
      "metadata": {
        "id": "q6cw9KXAuP42",
        "colab_type": "code",
        "colab": {
          "base_uri": "https://localhost:8080/",
          "height": 34
        },
        "outputId": "a4611b51-acb8-4f6f-eb69-da0d4414fd30"
      },
      "source": [
        "4 / 2\n"
      ],
      "execution_count": 5,
      "outputs": [
        {
          "output_type": "execute_result",
          "data": {
            "text/plain": [
              "2.0"
            ]
          },
          "metadata": {
            "tags": []
          },
          "execution_count": 5
        }
      ]
    },
    {
      "cell_type": "code",
      "metadata": {
        "id": "6IUpUuiCuSB0",
        "colab_type": "code",
        "colab": {
          "base_uri": "https://localhost:8080/",
          "height": 34
        },
        "outputId": "c697cbfc-a30c-47c1-c318-8024c8dcce10"
      },
      "source": [
        "4 - 2"
      ],
      "execution_count": 6,
      "outputs": [
        {
          "output_type": "execute_result",
          "data": {
            "text/plain": [
              "2"
            ]
          },
          "metadata": {
            "tags": []
          },
          "execution_count": 6
        }
      ]
    },
    {
      "cell_type": "code",
      "metadata": {
        "id": "0mPzEc8puZzC",
        "colab_type": "code",
        "colab": {
          "base_uri": "https://localhost:8080/",
          "height": 34
        },
        "outputId": "7807cad3-1b8d-4f8a-ab1d-983217770274"
      },
      "source": [
        "# Dois símbolo de multiplicação é uma forma de representar o exponencial\n",
        "9 ** 2\n"
      ],
      "execution_count": 7,
      "outputs": [
        {
          "output_type": "execute_result",
          "data": {
            "text/plain": [
              "81"
            ]
          },
          "metadata": {
            "tags": []
          },
          "execution_count": 7
        }
      ]
    },
    {
      "cell_type": "code",
      "metadata": {
        "id": "vREpmSpMun40",
        "colab_type": "code",
        "colab": {
          "base_uri": "https://localhost:8080/",
          "height": 34
        },
        "outputId": "308b7022-3555-42e6-fcb3-d27864887925"
      },
      "source": [
        "#Python também aceita a ordem das operações \n",
        "2 + 3 * 4"
      ],
      "execution_count": 8,
      "outputs": [
        {
          "output_type": "execute_result",
          "data": {
            "text/plain": [
              "14"
            ]
          },
          "metadata": {
            "tags": []
          },
          "execution_count": 8
        }
      ]
    },
    {
      "cell_type": "code",
      "metadata": {
        "id": "0t6BlrfMuzjL",
        "colab_type": "code",
        "colab": {
          "base_uri": "https://localhost:8080/",
          "height": 34
        },
        "outputId": "773a8c3f-5d86-4eb0-a45a-6e24107732dd"
      },
      "source": [
        "# Qualquer número com ponto decimal é considerado como flutuante (float)\n",
        "0.1 + 0.1"
      ],
      "execution_count": 9,
      "outputs": [
        {
          "output_type": "execute_result",
          "data": {
            "text/plain": [
              "0.2"
            ]
          },
          "metadata": {
            "tags": []
          },
          "execution_count": 9
        }
      ]
    },
    {
      "cell_type": "code",
      "metadata": {
        "id": "JrZ_H3TBvGK_",
        "colab_type": "code",
        "colab": {
          "base_uri": "https://localhost:8080/",
          "height": 34
        },
        "outputId": "bc6709ab-bfb3-498f-f4c8-1511cd7da509"
      },
      "source": [
        "0.3 * 0.5"
      ],
      "execution_count": 10,
      "outputs": [
        {
          "output_type": "execute_result",
          "data": {
            "text/plain": [
              "0.15"
            ]
          },
          "metadata": {
            "tags": []
          },
          "execution_count": 10
        }
      ]
    },
    {
      "cell_type": "code",
      "metadata": {
        "id": "GJPHjIB4vMBN",
        "colab_type": "code",
        "colab": {
          "base_uri": "https://localhost:8080/",
          "height": 34
        },
        "outputId": "368ac893-2a0c-4224-ebaf-eb5d6f607ed8"
      },
      "source": [
        "# Cuidado com números arbitrários\n",
        "0.2 + 0.1\n",
        "\n",
        "\"\"\"Isso acontece em todas as linguagens e não é motivo para muita\n",
        "preocupação. Python tenta encontrar uma forma de representar o resultado\n",
        "do modo mais exato possível, o que, às vezes, é difícil, considerando a\n",
        "maneira como os computadores devem representar os números\n",
        "internamente. Basta ignorar as casas decimais extras\"\"\""
      ],
      "execution_count": 11,
      "outputs": [
        {
          "output_type": "execute_result",
          "data": {
            "text/plain": [
              "0.30000000000000004"
            ]
          },
          "metadata": {
            "tags": []
          },
          "execution_count": 11
        }
      ]
    },
    {
      "cell_type": "code",
      "metadata": {
        "id": "hK2X850vvfRM",
        "colab_type": "code",
        "colab": {
          "base_uri": "https://localhost:8080/",
          "height": 197
        },
        "outputId": "74e5a65a-9273-4b24-98fb-e880f6458c9e"
      },
      "source": [
        "# Vejamos o exemplo a seguir:\n",
        "idade = 30\n",
        "nome = \"Ana\"\n",
        "print(\"Olá, sou \"+ nome + \"e tenho\"+ idade +\".\")"
      ],
      "execution_count": 13,
      "outputs": [
        {
          "output_type": "error",
          "ename": "TypeError",
          "evalue": "ignored",
          "traceback": [
            "\u001b[0;31m---------------------------------------------------------------------------\u001b[0m",
            "\u001b[0;31mTypeError\u001b[0m                                 Traceback (most recent call last)",
            "\u001b[0;32m<ipython-input-13-4c8c03677e5c>\u001b[0m in \u001b[0;36m<module>\u001b[0;34m()\u001b[0m\n\u001b[1;32m      2\u001b[0m \u001b[0midade\u001b[0m \u001b[0;34m=\u001b[0m \u001b[0;36m30\u001b[0m\u001b[0;34m\u001b[0m\u001b[0;34m\u001b[0m\u001b[0m\n\u001b[1;32m      3\u001b[0m \u001b[0mnome\u001b[0m \u001b[0;34m=\u001b[0m \u001b[0;34m\"Ana\"\u001b[0m\u001b[0;34m\u001b[0m\u001b[0;34m\u001b[0m\u001b[0m\n\u001b[0;32m----> 4\u001b[0;31m \u001b[0mprint\u001b[0m\u001b[0;34m(\u001b[0m\u001b[0;34m\"Olá, sou \"\u001b[0m\u001b[0;34m+\u001b[0m \u001b[0mnome\u001b[0m \u001b[0;34m+\u001b[0m \u001b[0;34m\"e tenho\"\u001b[0m\u001b[0;34m+\u001b[0m \u001b[0midade\u001b[0m \u001b[0;34m+\u001b[0m\u001b[0;34m\".\"\u001b[0m\u001b[0;34m)\u001b[0m\u001b[0;34m\u001b[0m\u001b[0;34m\u001b[0m\u001b[0m\n\u001b[0m",
            "\u001b[0;31mTypeError\u001b[0m: must be str, not int"
          ]
        }
      ]
    },
    {
      "cell_type": "code",
      "metadata": {
        "id": "gFIXcDaZv19V",
        "colab_type": "code",
        "colab": {
          "base_uri": "https://localhost:8080/",
          "height": 34
        },
        "outputId": "ab2f479f-1950-45cb-ec27-4cf1d95c8a96"
      },
      "source": [
        "#Tivemos um erro. Mas por que? Porque a idade não é string.\n",
        "# O correto é adicionar (str) antes da variável idade:\n",
        "nome = \"Ana\"\n",
        "idade = 30\n",
        "print('Olá, sou ' + nome + ' e tenho ' + str(idade)+' anos!')"
      ],
      "execution_count": 18,
      "outputs": [
        {
          "output_type": "stream",
          "text": [
            "Olá, sou Ana e tenho 30 anos!\n"
          ],
          "name": "stdout"
        }
      ]
    },
    {
      "cell_type": "markdown",
      "metadata": {
        "id": "JAB40Y1fwkhp",
        "colab_type": "text"
      },
      "source": [
        ""
      ]
    },
    {
      "cell_type": "markdown",
      "metadata": {
        "id": "9XZLW8Powufe",
        "colab_type": "text"
      },
      "source": [
        "##Comentários\n",
        "Comentários são um recurso extremamente útil na maioria das linguagens de programação. Tudo que você escreveu em seus programas até agora é código Python. \n",
        "\n",
        "À medida que seus programas se tornarem mais longos e\n",
        "complicados, você deve acrescentar notas que descrevam a abordagem geral adotada para o problema que você está resolvendo. Um comentário permite escrever notas em seus programas em linguagem natural."
      ]
    },
    {
      "cell_type": "code",
      "metadata": {
        "id": "HOQdw8ebwisU",
        "colab_type": "code",
        "colab": {
          "base_uri": "https://localhost:8080/",
          "height": 34
        },
        "outputId": "b5455334-4a66-42ef-f41f-dc1ddfe6782c"
      },
      "source": [
        "# Acrescente o (#) antes e o Pyhton não considerará a linha\n",
        "#Escreva sobre a linha de código que será feita abaixo\n",
        "cod = 'Forma de escrever um programa'\n",
        "print(cod)\n"
      ],
      "execution_count": 19,
      "outputs": [
        {
          "output_type": "stream",
          "text": [
            "Forma de escrever um programa\n"
          ],
          "name": "stdout"
        }
      ]
    },
    {
      "cell_type": "markdown",
      "metadata": {
        "id": "6QAXdWZexREi",
        "colab_type": "text"
      },
      "source": [
        "Um dos motivos para escrever um comentário é para explicar o que seu código deve ser e como você o faz funcionar.\n",
        "\n",
        "No meio de um projeto atual é fácil saber o que está sendo feito. Mas daqui 6 meses, depois de trabalhar em outros projetos, pegando aquele programa, com certeza os comentários serão úteis para te fazer compreender mais rapidamente a utilização daquela linha de código.\n",
        "\n",
        "No intuito de ser tornar um bom programador e ainda, colaborador com outros programadores você dever escrever comentários relevantes. Teste se seu comenário é útil, pergunte a si mesmo o que precisou considerar de abordagem para definir seus códigos e se seria mais fácil entendê-lo depois se tivesse algum explicativo sobre todo o processo. "
      ]
    }
  ]
}