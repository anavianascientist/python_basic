{
  "nbformat": 4,
  "nbformat_minor": 0,
  "metadata": {
    "colab": {
      "name": "Tuplas.ipynb",
      "provenance": [],
      "collapsed_sections": [],
      "authorship_tag": "ABX9TyOsA46Cu7YdKCXOcXR4lkBm",
      "include_colab_link": true
    },
    "kernelspec": {
      "name": "python3",
      "display_name": "Python 3"
    }
  },
  "cells": [
    {
      "cell_type": "markdown",
      "metadata": {
        "id": "view-in-github",
        "colab_type": "text"
      },
      "source": [
        "<a href=\"https://colab.research.google.com/github/anavianascientist/python_basic/blob/master/Tuplas.ipynb\" target=\"_parent\"><img src=\"https://colab.research.google.com/assets/colab-badge.svg\" alt=\"Open In Colab\"/></a>"
      ]
    },
    {
      "cell_type": "markdown",
      "metadata": {
        "id": "lCuMnYh_xtaO",
        "colab_type": "text"
      },
      "source": [
        "# Python : Tuplas\n",
        "\n",
        "As listas funcionam bem para armazenar conjunto de itens que sofrerão mudanças durante a vida de um programa.\n",
        "\n",
        "No entanto, as vezes você pode querer criar uma lista que não poderá ser alterada, e nesse caso, criará uma tupla. \n",
        "Enquanto listas usam [ ] , em tuplas utilizamos ( ).\n",
        " "
      ]
    },
    {
      "cell_type": "code",
      "metadata": {
        "id": "_ZIssONMyfvt",
        "colab_type": "code",
        "colab": {
          "base_uri": "https://localhost:8080/",
          "height": 51
        },
        "outputId": "c1f20a78-e7e8-421c-9a1a-2083894c8385"
      },
      "source": [
        "#Criando uma tupla\n",
        "filhos = ('Davi', 'Gabriel')\n",
        "print(filhos[0])\n",
        "print(filhos[1])"
      ],
      "execution_count": 1,
      "outputs": [
        {
          "output_type": "stream",
          "text": [
            "Davi\n",
            "Gabriel\n"
          ],
          "name": "stdout"
        }
      ]
    },
    {
      "cell_type": "code",
      "metadata": {
        "id": "Xp5BUZF_1ADP",
        "colab_type": "code",
        "colab": {
          "base_uri": "https://localhost:8080/",
          "height": 180
        },
        "outputId": "5f8d785a-dcfa-4267-e97c-f07516ea30b9"
      },
      "source": [
        "#Alterar os itens da tupla\n",
        "filhos[0] = 'Alice' # Abaixo teremos um erro de tipo, o objeto tupla\n",
        "                    # não suporta alteração"
      ],
      "execution_count": 2,
      "outputs": [
        {
          "output_type": "error",
          "ename": "TypeError",
          "evalue": "ignored",
          "traceback": [
            "\u001b[0;31m---------------------------------------------------------------------------\u001b[0m",
            "\u001b[0;31mTypeError\u001b[0m                                 Traceback (most recent call last)",
            "\u001b[0;32m<ipython-input-2-f9f5d88eddc8>\u001b[0m in \u001b[0;36m<module>\u001b[0;34m()\u001b[0m\n\u001b[1;32m      1\u001b[0m \u001b[0;31m#Alterar os itens da tupla\u001b[0m\u001b[0;34m\u001b[0m\u001b[0;34m\u001b[0m\u001b[0;34m\u001b[0m\u001b[0m\n\u001b[0;32m----> 2\u001b[0;31m \u001b[0mfilhos\u001b[0m\u001b[0;34m[\u001b[0m\u001b[0;36m0\u001b[0m\u001b[0;34m]\u001b[0m \u001b[0;34m=\u001b[0m \u001b[0;34m'Alice'\u001b[0m\u001b[0;34m\u001b[0m\u001b[0;34m\u001b[0m\u001b[0m\n\u001b[0m",
            "\u001b[0;31mTypeError\u001b[0m: 'tuple' object does not support item assignment"
          ]
        }
      ]
    },
    {
      "cell_type": "code",
      "metadata": {
        "id": "1JipRYix1W-K",
        "colab_type": "code",
        "colab": {
          "base_uri": "https://localhost:8080/",
          "height": 51
        },
        "outputId": "8b7b8aab-6ef4-4318-d1a1-a959dbe258cf"
      },
      "source": [
        "# Percorrer todos os itens da tupla pelo laço for\n",
        "filhos = ('Davi', 'Gabriel')\n",
        "for filho in filhos:\n",
        "  print(filho)"
      ],
      "execution_count": 3,
      "outputs": [
        {
          "output_type": "stream",
          "text": [
            "Davi\n",
            "Gabriel\n"
          ],
          "name": "stdout"
        }
      ]
    },
    {
      "cell_type": "code",
      "metadata": {
        "id": "C0tK-rxI2XiN",
        "colab_type": "code",
        "colab": {
          "base_uri": "https://localhost:8080/",
          "height": 153
        },
        "outputId": "d3d11e6d-55a4-4aa6-c7f1-323f0751706e"
      },
      "source": [
        "#Sobrescrever uma tupla\n",
        "filhos = ('Davi', 'Gabriel')\n",
        "print('\\nTupla original:')\n",
        "for filho in filhos:\n",
        "  print(filho)\n",
        "\n",
        "filhos = ('Alice', 'Laura')\n",
        "print('\\nTupla modificada:')\n",
        "for filho in filhos:\n",
        "  print(filho)"
      ],
      "execution_count": 5,
      "outputs": [
        {
          "output_type": "stream",
          "text": [
            "\n",
            "Tupla original:\n",
            "Davi\n",
            "Gabriel\n",
            "\n",
            "Tupla modificada:\n",
            "Alice\n",
            "Laura\n"
          ],
          "name": "stdout"
        }
      ]
    },
    {
      "cell_type": "markdown",
      "metadata": {
        "id": "a4PXZy1327qI",
        "colab_type": "text"
      },
      "source": [
        "## LISTAS X TUPLAS\n",
        "\n",
        "Bom, se comparada com listas, as tuplas são estruturas de dados simples. Tem um conjunto de valores que não deve ser alterado durante a vida de um programa? Então, nesse caso use Tupla."
      ]
    },
    {
      "cell_type": "code",
      "metadata": {
        "id": "0MWny-Ad26Xz",
        "colab_type": "code",
        "colab": {}
      },
      "source": [
        ""
      ],
      "execution_count": null,
      "outputs": []
    }
  ]
}