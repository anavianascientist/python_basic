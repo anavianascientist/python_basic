{
  "nbformat": 4,
  "nbformat_minor": 0,
  "metadata": {
    "colab": {
      "name": "Instruções_IF.ipynb",
      "provenance": [],
      "collapsed_sections": [],
      "authorship_tag": "ABX9TyPloFfeHQtP7oin7BXQhYs+",
      "include_colab_link": true
    },
    "kernelspec": {
      "name": "python3",
      "display_name": "Python 3"
    }
  },
  "cells": [
    {
      "cell_type": "markdown",
      "metadata": {
        "id": "view-in-github",
        "colab_type": "text"
      },
      "source": [
        "<a href=\"https://colab.research.google.com/github/anavianascientist/python_basic/blob/master/Instru%C3%A7%C3%B5es_IF.ipynb\" target=\"_parent\"><img src=\"https://colab.research.google.com/assets/colab-badge.svg\" alt=\"Open In Colab\"/></a>"
      ]
    },
    {
      "cell_type": "markdown",
      "metadata": {
        "id": "ayttDvm05Evg",
        "colab_type": "text"
      },
      "source": [
        "#Python : Instruções IF\n",
        "\n",
        "Com uma certa frequência a programação envolve analisar um conjunto de condições e decidir qual ação deve ser executada de acordo com aquelas condições."
      ]
    },
    {
      "cell_type": "code",
      "metadata": {
        "id": "XMSahXkk51OV",
        "colab_type": "code",
        "colab": {
          "base_uri": "https://localhost:8080/",
          "height": 102
        },
        "outputId": "5e70154d-5a9c-46a9-ca97-9f916d72d3e0"
      },
      "source": [
        "#Teste simples condicional\n",
        "frutas = ['banana', 'pera', 'maca', 'laranja','morango']\n",
        "for fruta in frutas:\n",
        "  if fruta == 'pera':\n",
        "    print(fruta.upper())\n",
        "  else:\n",
        "    print(fruta.title())"
      ],
      "execution_count": 2,
      "outputs": [
        {
          "output_type": "stream",
          "text": [
            "Banana\n",
            "PERA\n",
            "Maca\n",
            "Laranja\n",
            "Morango\n"
          ],
          "name": "stdout"
        }
      ]
    },
    {
      "cell_type": "code",
      "metadata": {
        "id": "DLhoiTax6ViI",
        "colab_type": "code",
        "colab": {
          "base_uri": "https://localhost:8080/",
          "height": 34
        },
        "outputId": "6c9db92a-db71-40a1-da1e-db362b95d4e4"
      },
      "source": [
        "#Teste Condicional = True ou False\n",
        "fruta = 'pera'\n",
        "fruta == 'pera'"
      ],
      "execution_count": 5,
      "outputs": [
        {
          "output_type": "execute_result",
          "data": {
            "text/plain": [
              "True"
            ]
          },
          "metadata": {
            "tags": []
          },
          "execution_count": 5
        }
      ]
    },
    {
      "cell_type": "code",
      "metadata": {
        "id": "7uRfkRl17PT8",
        "colab_type": "code",
        "colab": {
          "base_uri": "https://localhost:8080/",
          "height": 34
        },
        "outputId": "a06dc85b-61a1-4f45-bd67-1f3710beecfd"
      },
      "source": [
        "fruta = 'banana' # único sinal de igualdade indica instrução\n",
        "fruta == 'pera'  # sinal de igualdade duplo pergunta qual o valor de Fruta?\n"
      ],
      "execution_count": 7,
      "outputs": [
        {
          "output_type": "execute_result",
          "data": {
            "text/plain": [
              "False"
            ]
          },
          "metadata": {
            "tags": []
          },
          "execution_count": 7
        }
      ]
    },
    {
      "cell_type": "code",
      "metadata": {
        "id": "bDsE5F4j7YjS",
        "colab_type": "code",
        "colab": {
          "base_uri": "https://localhost:8080/",
          "height": 34
        },
        "outputId": "109165d5-c790-4887-d40f-7eba477762b6"
      },
      "source": [
        "#Ignorar as diferenças de maiúscula e minuscula\n",
        "fruta = 'pera'\n",
        "fruta == 'Pera'"
      ],
      "execution_count": 8,
      "outputs": [
        {
          "output_type": "execute_result",
          "data": {
            "text/plain": [
              "False"
            ]
          },
          "metadata": {
            "tags": []
          },
          "execution_count": 8
        }
      ]
    },
    {
      "cell_type": "code",
      "metadata": {
        "id": "lo4YHBlu76wC",
        "colab_type": "code",
        "colab": {
          "base_uri": "https://localhost:8080/",
          "height": 34
        },
        "outputId": "b0fcc52e-7b67-4238-e5ed-7b117b4b8aa0"
      },
      "source": [
        "fruta = 'Pera'\n",
        "fruta.lower() == 'pera'"
      ],
      "execution_count": 10,
      "outputs": [
        {
          "output_type": "execute_result",
          "data": {
            "text/plain": [
              "True"
            ]
          },
          "metadata": {
            "tags": []
          },
          "execution_count": 10
        }
      ]
    },
    {
      "cell_type": "code",
      "metadata": {
        "id": "iGGfUSSi8PBs",
        "colab_type": "code",
        "colab": {
          "base_uri": "https://localhost:8080/",
          "height": 34
        },
        "outputId": "68c4d6bc-796b-4666-a27a-24bad63758f8"
      },
      "source": [
        "# Verificar as diferenças\n",
        "cobertura = 'caramelo'\n",
        "if cobertura != 'chocolate':\n",
        "  print('Pediu cobertura, então é chocolate! ')\n"
      ],
      "execution_count": 11,
      "outputs": [
        {
          "output_type": "stream",
          "text": [
            "Pediu cobertura, então é chocolate! \n"
          ],
          "name": "stdout"
        }
      ]
    },
    {
      "cell_type": "code",
      "metadata": {
        "id": "CouEk97w99BI",
        "colab_type": "code",
        "colab": {
          "base_uri": "https://localhost:8080/",
          "height": 34
        },
        "outputId": "5cd376f8-8254-4c88-ed8d-6632051afed6"
      },
      "source": [
        "cobertura = 'chocolate'\n",
        "if cobertura != 'chocolate': # tem que ser diferente do que foi declarado \n",
        "  print('Pediu cobertura, então é chocolate! ')\n",
        "else:\n",
        "  print('False')"
      ],
      "execution_count": 13,
      "outputs": [
        {
          "output_type": "stream",
          "text": [
            "False\n"
          ],
          "name": "stdout"
        }
      ]
    },
    {
      "cell_type": "code",
      "metadata": {
        "id": "U0Gtns9z-USq",
        "colab_type": "code",
        "colab": {
          "base_uri": "https://localhost:8080/",
          "height": 34
        },
        "outputId": "7a7edd80-93b3-4177-f087-9241b9e09527"
      },
      "source": [
        "# Comparações numéricas\n",
        "age = 20\n",
        "age == 20"
      ],
      "execution_count": 14,
      "outputs": [
        {
          "output_type": "execute_result",
          "data": {
            "text/plain": [
              "True"
            ]
          },
          "metadata": {
            "tags": []
          },
          "execution_count": 14
        }
      ]
    },
    {
      "cell_type": "code",
      "metadata": {
        "id": "8FbkExzl-g_N",
        "colab_type": "code",
        "colab": {
          "base_uri": "https://localhost:8080/",
          "height": 34
        },
        "outputId": "159495f0-4985-4ef2-bfb2-d0b44a0fc225"
      },
      "source": [
        "idade = 30\n",
        "\n",
        "if idade != 50:\n",
        "  print('Agradecemos por fornecer sua idade!')"
      ],
      "execution_count": 15,
      "outputs": [
        {
          "output_type": "stream",
          "text": [
            "Agradecemos por fornecer sua idade!\n"
          ],
          "name": "stdout"
        }
      ]
    },
    {
      "cell_type": "code",
      "metadata": {
        "id": "uwE6Fd59-7NO",
        "colab_type": "code",
        "colab": {
          "base_uri": "https://localhost:8080/",
          "height": 34
        },
        "outputId": "3b90f5ac-fd17-46c1-c424-7db9b402fafb"
      },
      "source": [
        "# Várias comparações matemáticas\n",
        "id = 20\n",
        "id <= 30"
      ],
      "execution_count": 16,
      "outputs": [
        {
          "output_type": "execute_result",
          "data": {
            "text/plain": [
              "True"
            ]
          },
          "metadata": {
            "tags": []
          },
          "execution_count": 16
        }
      ]
    },
    {
      "cell_type": "code",
      "metadata": {
        "id": "4umXXY0t_IPd",
        "colab_type": "code",
        "colab": {
          "base_uri": "https://localhost:8080/",
          "height": 34
        },
        "outputId": "3c471506-52ad-4f54-ed33-cd13041b1831"
      },
      "source": [
        "id = 15\n",
        "id >= 20"
      ],
      "execution_count": 17,
      "outputs": [
        {
          "output_type": "execute_result",
          "data": {
            "text/plain": [
              "False"
            ]
          },
          "metadata": {
            "tags": []
          },
          "execution_count": 17
        }
      ]
    },
    {
      "cell_type": "code",
      "metadata": {
        "id": "uQ85JfeF_P0n",
        "colab_type": "code",
        "colab": {
          "base_uri": "https://localhost:8080/",
          "height": 34
        },
        "outputId": "2140916c-5dd5-477d-bd60-f4ee62e36119"
      },
      "source": [
        "id > 10"
      ],
      "execution_count": 18,
      "outputs": [
        {
          "output_type": "execute_result",
          "data": {
            "text/plain": [
              "True"
            ]
          },
          "metadata": {
            "tags": []
          },
          "execution_count": 18
        }
      ]
    },
    {
      "cell_type": "code",
      "metadata": {
        "id": "PZlwjYb4_VhL",
        "colab_type": "code",
        "colab": {
          "base_uri": "https://localhost:8080/",
          "height": 34
        },
        "outputId": "33a0e284-107b-44b1-db5d-16967d88dae7"
      },
      "source": [
        "#Testando várias condições\n",
        "id = 10\n",
        "id_1 = 15\n",
        "id >= 10 and id_1 <=15\n"
      ],
      "execution_count": 21,
      "outputs": [
        {
          "output_type": "execute_result",
          "data": {
            "text/plain": [
              "True"
            ]
          },
          "metadata": {
            "tags": []
          },
          "execution_count": 21
        }
      ]
    },
    {
      "cell_type": "code",
      "metadata": {
        "id": "W4K-Qh4F_iz0",
        "colab_type": "code",
        "colab": {
          "base_uri": "https://localhost:8080/",
          "height": 34
        },
        "outputId": "b383b755-9a8c-4059-d005-d1fa44a8b38c"
      },
      "source": [
        "id <= 5 and id_1 >= 20"
      ],
      "execution_count": 22,
      "outputs": [
        {
          "output_type": "execute_result",
          "data": {
            "text/plain": [
              "False"
            ]
          },
          "metadata": {
            "tags": []
          },
          "execution_count": 22
        }
      ]
    },
    {
      "cell_type": "code",
      "metadata": {
        "id": "JC-4oh6Z_vMA",
        "colab_type": "code",
        "colab": {
          "base_uri": "https://localhost:8080/",
          "height": 34
        },
        "outputId": "469c450e-569f-45d5-dc5e-7e988002083e"
      },
      "source": [
        "fase_da_lua = 7\n",
        "um_mes = 30\n",
        "fase_da_lua <= 7 or um_mes >=31\n"
      ],
      "execution_count": 23,
      "outputs": [
        {
          "output_type": "execute_result",
          "data": {
            "text/plain": [
              "True"
            ]
          },
          "metadata": {
            "tags": []
          },
          "execution_count": 23
        }
      ]
    },
    {
      "cell_type": "code",
      "metadata": {
        "id": "YvjF0SevAHzn",
        "colab_type": "code",
        "colab": {
          "base_uri": "https://localhost:8080/",
          "height": 34
        },
        "outputId": "a710db18-a8e6-43fb-89bc-2af22601492e"
      },
      "source": [
        "um_mes > 40 or fase_da_lua > 8"
      ],
      "execution_count": 24,
      "outputs": [
        {
          "output_type": "execute_result",
          "data": {
            "text/plain": [
              "False"
            ]
          },
          "metadata": {
            "tags": []
          },
          "execution_count": 24
        }
      ]
    },
    {
      "cell_type": "code",
      "metadata": {
        "id": "i6UjMPcCAWuv",
        "colab_type": "code",
        "colab": {
          "base_uri": "https://localhost:8080/",
          "height": 34
        },
        "outputId": "1c489b61-b9de-4076-c0d6-b293d5967d36"
      },
      "source": [
        "#Verificar se um valor está em uma lista\n",
        "usuarios = ['Daniel', 'Arthur', \"Marcos\", \"Ana Clara\"]\n",
        "'Gabriel' in usuarios"
      ],
      "execution_count": 27,
      "outputs": [
        {
          "output_type": "execute_result",
          "data": {
            "text/plain": [
              "False"
            ]
          },
          "metadata": {
            "tags": []
          },
          "execution_count": 27
        }
      ]
    },
    {
      "cell_type": "code",
      "metadata": {
        "id": "1jDlyW4xAz1-",
        "colab_type": "code",
        "colab": {
          "base_uri": "https://localhost:8080/",
          "height": 34
        },
        "outputId": "a6232d23-458b-453f-9953-d3ddda269382"
      },
      "source": [
        "'Daniel' in usuarios"
      ],
      "execution_count": 28,
      "outputs": [
        {
          "output_type": "execute_result",
          "data": {
            "text/plain": [
              "True"
            ]
          },
          "metadata": {
            "tags": []
          },
          "execution_count": 28
        }
      ]
    },
    {
      "cell_type": "code",
      "metadata": {
        "id": "SeJYLWGrA27H",
        "colab_type": "code",
        "colab": {
          "base_uri": "https://localhost:8080/",
          "height": 34
        },
        "outputId": "224fe2b0-c555-418d-ed52-112fc036c875"
      },
      "source": [
        "# Verificar se um valor não está na list\n",
        "usuarios_banidos = ['Alexandre', 'Toffoli', 'Celso de Melo', 'Barroso' ]\n",
        "usuario = 'Bolsonaro'\n",
        "\n",
        "if usuario not in usuarios_banidos:\n",
        "  print(usuario.title() + ', você não está banido, pode comentar!')"
      ],
      "execution_count": 29,
      "outputs": [
        {
          "output_type": "stream",
          "text": [
            "Bolsonaro, você não está banido, pode comentar!\n"
          ],
          "name": "stdout"
        }
      ]
    },
    {
      "cell_type": "markdown",
      "metadata": {
        "id": "VlRehD1rEqJ5",
        "colab_type": "text"
      },
      "source": [
        "Valores booleanos muitas vezes são usados para manter o controle de determinadas condições, como o fato de um jogo estar executando ou se um usuário pode editar certos conteúdos em um site.\n",
        "Oferecem uma maneira eficiente para monitorar o estado ou uma condição em particular que seja imporante para o programa."
      ]
    },
    {
      "cell_type": "code",
      "metadata": {
        "id": "av1WaEOqERVw",
        "colab_type": "code",
        "colab": {}
      },
      "source": [
        "# Teste condicional = Expressão Booleana\n",
        "jogo_ativo = True\n",
        "campo_editavel = False"
      ],
      "execution_count": null,
      "outputs": []
    },
    {
      "cell_type": "code",
      "metadata": {
        "id": "OJ2tMeLrFtg4",
        "colab_type": "code",
        "colab": {}
      },
      "source": [
        "# Instrução IF simples\n",
        "if teste_condicional:\n",
        "  faça algo\n",
        "\n",
        "  "
      ],
      "execution_count": null,
      "outputs": []
    },
    {
      "cell_type": "code",
      "metadata": {
        "id": "D634j2esF4Z6",
        "colab_type": "code",
        "colab": {
          "base_uri": "https://localhost:8080/",
          "height": 34
        },
        "outputId": "f39250ec-983e-4189-dca7-5fc5af74dde7"
      },
      "source": [
        "# O valor do ingresso depende da condição idade - if\n",
        "age = 10\n",
        "if age <= 16:\n",
        "  print(\"O ingresso custa 10,00!\")\n",
        "\n"
      ],
      "execution_count": 46,
      "outputs": [
        {
          "output_type": "stream",
          "text": [
            "O ingresso custa 10,00!\n"
          ],
          "name": "stdout"
        }
      ]
    },
    {
      "cell_type": "markdown",
      "metadata": {
        "id": "4mgOy_vnOnJz",
        "colab_type": "text"
      },
      "source": [
        "O bloco else é uma instrução que captura tudo. Ela corresponde a qualquer condição não atendida por um teste if ou elif específicos e isso, às vezes, pode incluir dados inválidos ou até mesmo maliciosos. Se você\n",
        "tiver uma condição final específica para testar, considere usar um último bloco elif e omitir o bloco else. Como resultado, você terá mais confiança\n",
        "de que seu código executará somente nas condições corretas."
      ]
    },
    {
      "cell_type": "code",
      "metadata": {
        "id": "CIwxrBtoGSaR",
        "colab_type": "code",
        "colab": {
          "base_uri": "https://localhost:8080/",
          "height": 34
        },
        "outputId": "3dcdfaf7-eb57-415f-862e-73b05535c53b"
      },
      "source": [
        "# O valor dos ingressos tem como condição a idade if - else\n",
        "age = 17\n",
        "if age <= 16:\n",
        "  print('O ingresso custa 10,00!')\n",
        "else:\n",
        "  print('O ingresso custa 15,00!')"
      ],
      "execution_count": 50,
      "outputs": [
        {
          "output_type": "stream",
          "text": [
            "O ingresso custa 15,00!\n"
          ],
          "name": "stdout"
        }
      ]
    },
    {
      "cell_type": "code",
      "metadata": {
        "id": "KjVTi_rYGrOJ",
        "colab_type": "code",
        "colab": {
          "base_uri": "https://localhost:8080/",
          "height": 34
        },
        "outputId": "7e6a3067-8104-4b25-bfea-99c80f84a666"
      },
      "source": [
        "#Testa o valor dos ingressos tem como condição a idade . if - elif - else\n",
        "age = 20\n",
        "if age < 16:\n",
        "  print('O ingresso custa 10,00!')\n",
        "elif age < 20:\n",
        "  print('O ingresso custa 15,00!')\n",
        "else:\n",
        "  print('O ingress0 custa 20,00!')  \n",
        "\n"
      ],
      "execution_count": 54,
      "outputs": [
        {
          "output_type": "stream",
          "text": [
            "O ingress0 custa 20,00!\n"
          ],
          "name": "stdout"
        }
      ]
    },
    {
      "cell_type": "markdown",
      "metadata": {
        "id": "xaxnZwYVPBat",
        "colab_type": "text"
      },
      "source": [
        "##Testando várias condições\n",
        "A cadeia if-elif-else é eficaz, mas é apropriada somente quando você quiser que apenas um teste passe. Assim que encontrar um teste que passe, o interpretador Python ignorará o restante dos testes. Esse comportamento\n",
        "é vantajoso, pois é eficiente e permite testar uma condição específica.\n",
        "\n",
        "Às vezes, porém, é importante verificar todas as ondições de interesse. Nesse caso, você deve usar uma série de instruções if simples, sem blocos elif ou else. Essa técnica faz sentido quando mais de uma condição pode\n",
        "ser True e você quer atuar em todas as condições que sejam verdadeiras.\n",
        "\n",
        "Vamos reconsiderar o exemplo da pizzaria. Se alguém pedir uma pizza com dois ingredientes, será necessário garantir que esses dois ingredientes sejam incluídos em sua pizza:"
      ]
    },
    {
      "cell_type": "code",
      "metadata": {
        "id": "o163sfquMquN",
        "colab_type": "code",
        "colab": {
          "base_uri": "https://localhost:8080/",
          "height": 85
        },
        "outputId": "3fd28c01-7c5e-4dc5-f193-3b02e43695d2"
      },
      "source": [
        "ingredientes_pizza = ['calabresa', 'queijo', 'bacon']\n",
        "if 'calabresa' in ingredientes_pizza:\n",
        "  print('Adiciona calabresa')\n",
        "if 'pepperoni' in ingredientes_pizza:\n",
        "  print('Adiciona pepperoni')\n",
        "if 'queijo' in ingredientes_pizza:\n",
        "  print('Adiciona queijo')\n",
        "\n",
        "print('\\nFinalmente fizemos sua pizza!')"
      ],
      "execution_count": 56,
      "outputs": [
        {
          "output_type": "stream",
          "text": [
            "Adiciona calabresa\n",
            "Adiciona queijo\n",
            "\n",
            "Finalmente fizemos sua pizza!\n"
          ],
          "name": "stdout"
        }
      ]
    },
    {
      "cell_type": "code",
      "metadata": {
        "id": "HXGEt3QQk_71",
        "colab_type": "code",
        "colab": {
          "base_uri": "https://localhost:8080/",
          "height": 102
        },
        "outputId": "daaa4991-0d25-4431-d3cc-a828a979ff0d"
      },
      "source": [
        "ingredientes_pizza = ['calabresa', 'queijo', 'bacon']\n",
        "for ingrediente_pizza in ingredientes_pizza:\n",
        "  print('Adiciona '+ ingrediente_pizza + '.')\n",
        "\n",
        "print('\\nFinalmente fizemos sua pizza!')"
      ],
      "execution_count": 57,
      "outputs": [
        {
          "output_type": "stream",
          "text": [
            "Adiciona calabresa.\n",
            "Adiciona queijo.\n",
            "Adiciona bacon.\n",
            "\n",
            "Finalmente fizemos sua pizza!\n"
          ],
          "name": "stdout"
        }
      ]
    },
    {
      "cell_type": "code",
      "metadata": {
        "id": "cm6XgroYld3j",
        "colab_type": "code",
        "colab": {
          "base_uri": "https://localhost:8080/",
          "height": 68
        },
        "outputId": "26388395-ed5d-418d-99dd-e5829998ac87"
      },
      "source": [
        "ingredientes_pizza = ['calabresa', 'queijo', 'bacon']\n",
        "for ingrediente_pizza in ingredientes_pizza:\n",
        "  if ingrediente_pizza == 'queijo':\n",
        "    print('Infelizmente não temos esse adicional!')\n",
        "  else:\n",
        "     print('Adiciona ' +ingrediente_pizza + '.')\n"
      ],
      "execution_count": 61,
      "outputs": [
        {
          "output_type": "stream",
          "text": [
            "Adiciona calabresa.\n",
            "Infelizmente não temos esse adicional!\n",
            "Adiciona bacon.\n"
          ],
          "name": "stdout"
        }
      ]
    },
    {
      "cell_type": "code",
      "metadata": {
        "id": "kHW8qY6kmrVZ",
        "colab_type": "code",
        "colab": {
          "base_uri": "https://localhost:8080/",
          "height": 85
        },
        "outputId": "a0dbfb82-0f5d-4570-973c-f000d48b0d30"
      },
      "source": [
        "#Usando várias listas : Sabor da pizza e outras comidas\n",
        "sabores_pizza = ['pepperoni','moda', 'portuguesa', 'marguerita', 'batata frita']\n",
        "lanches = ['pastel', 'panqueca', 'portuguesa', 'batata frita']\n",
        "\n",
        "for lanche in lanches:\n",
        "  if lanche in sabores_pizza:\n",
        "    print('Adiciona ' + lanche + '.')\n",
        "  else:\n",
        "    print('Desculpe, não temos '+lanche+ ' escolhido.')"
      ],
      "execution_count": 66,
      "outputs": [
        {
          "output_type": "stream",
          "text": [
            "Desculpe, não temos pastel escolhido.\n",
            "Desculpe, não temos panqueca escolhido.\n",
            "Adiciona portuguesa.\n",
            "Adiciona batata frita.\n"
          ],
          "name": "stdout"
        }
      ]
    }
  ]
}