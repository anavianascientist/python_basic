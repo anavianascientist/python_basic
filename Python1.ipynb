{
  "nbformat": 4,
  "nbformat_minor": 0,
  "metadata": {
    "colab": {
      "name": "Python1.ipynb",
      "provenance": [],
      "authorship_tag": "ABX9TyM3AYoSot13WQMB5UO/dC51",
      "include_colab_link": true
    },
    "kernelspec": {
      "name": "python3",
      "display_name": "Python 3"
    }
  },
  "cells": [
    {
      "cell_type": "markdown",
      "metadata": {
        "id": "view-in-github",
        "colab_type": "text"
      },
      "source": [
        "<a href=\"https://colab.research.google.com/github/anavianascientist/python_basic/blob/master/Python1.ipynb\" target=\"_parent\"><img src=\"https://colab.research.google.com/assets/colab-badge.svg\" alt=\"Open In Colab\"/></a>"
      ]
    },
    {
      "cell_type": "markdown",
      "metadata": {
        "id": "AKb-J3z8QjHv",
        "colab_type": "text"
      },
      "source": [
        "# Python : Intrudução Prática à linguagem\n",
        "\n",
        "##Por que Pyton?\n",
        "É uma linguagem extreamente eficiente:\n",
        "> - Seus programas fazem mais com menos linha de código;\n",
        "> - Sintaxe ajuda a escrever um código mais limpo;\n",
        ">>-- Código fácil de ler, fácil de depurar, fácil de expandir e estender.\n",
        "> - Cria jogos; app web, resolve problemas de negócios e desenvolve ferramentas internas em todo tipo de empresa;\n",
        "> - É uma usada na área acadêmica e científica;\n",
        "E um dos principais motivos, é a comunidade. Que está bem conectada, oferece bastante suporte, o que ajuda até os programadores mais experientes a resolverem problemas.\n",
        "\n",
        "Python é uma linguagem ótima de aprender, vamos começar!\n",
        "\n"
      ]
    },
    {
      "cell_type": "code",
      "metadata": {
        "id": "K58HE5YBST4o",
        "colab_type": "code",
        "colab": {
          "base_uri": "https://localhost:8080/",
          "height": 34
        },
        "outputId": "17d219f0-03f2-4165-afa5-2fea40a47404"
      },
      "source": [
        "# Vamos compilar o seu primeiro código:\n",
        "print( 'Hello, World!')\n",
        "\n",
        "# Dizem por aí que compilar 'Hello, Word!' como primeira linha de código dá sorte!"
      ],
      "execution_count": 1,
      "outputs": [
        {
          "output_type": "stream",
          "text": [
            "Hello, World!\n"
          ],
          "name": "stdout"
        }
      ]
    },
    {
      "cell_type": "markdown",
      "metadata": {
        "id": "YNfff1hzS3di",
        "colab_type": "text"
      },
      "source": [
        "Python é uma linguagem de programação para diversas plataformas, o que\n",
        "significa que ela executará em todos os principais sistemas operacionais.\n",
        "\n",
        "Qualquer programa Python que você escrever deverá executar em qualquer\n",
        "computador moderno que tenha Python instalado. No entanto, os\n",
        "métodos para configurar Python em diferentes sistemas operacionais\n",
        "variam um pouco.\n",
        "\n",
        "Hoje temos a opção de usar o Google Colab (escreva no google dessa forma) e você será direcionado para o notebook do colab e já poderá trabalhar. Caso tenha dúvidas de como começar veja o tutorial dentro do prório colab."
      ]
    },
    {
      "cell_type": "markdown",
      "metadata": {
        "id": "w_svrTmQTuji",
        "colab_type": "text"
      },
      "source": [
        "## Variáveis em Python\n",
        "\n"
      ]
    },
    {
      "cell_type": "code",
      "metadata": {
        "id": "IG5PJI2wQhfR",
        "colab_type": "code",
        "colab": {
          "base_uri": "https://localhost:8080/",
          "height": 34
        },
        "outputId": "c8a21f74-8d35-4060-be78-68d20b3b2cad"
      },
      "source": [
        "# Acrescentar variável ao código anterior:\n",
        "message = ('Hello, World!')\n",
        "print(message)"
      ],
      "execution_count": 3,
      "outputs": [
        {
          "output_type": "stream",
          "text": [
            "Hello, World!\n"
          ],
          "name": "stdout"
        }
      ]
    },
    {
      "cell_type": "markdown",
      "metadata": {
        "id": "GaoIUqifUWPB",
        "colab_type": "text"
      },
      "source": [
        "Tecnicamente a saída foi à mesma saída do código executado anteriomente. Mas o código não foi escrito da mesma forma.\n",
        "\n",
        "Por que não? Pois na última linha de código nós declaramos uma varíavel 'message' e pedimos a 'impressão' da variável e não mais da frase direto.\n",
        "\n",
        "Acrescentar uma variável implica um pouco mais de trabalho para o\n",
        "interpretador Python. Quando processa a primeira linha, ele associa o\n",
        "texto “Hello Python world!” à variável message. Quando chega à segunda\n",
        "linha, o interpretador exibe o valor associado à message na tela."
      ]
    },
    {
      "cell_type": "code",
      "metadata": {
        "id": "Aq1qOiNeUwZ3",
        "colab_type": "code",
        "colab": {
          "base_uri": "https://localhost:8080/",
          "height": 34
        },
        "outputId": "422a4190-7891-4767-dca6-a46707eca92a"
      },
      "source": [
        "# Alterando a declaração da variável\n",
        "message = 'Python é muito bom!' \n",
        "print(message)\n",
        "\n",
        "#Veja que o Pyton agora atribuirá à variável 'message' essa nova declaração"
      ],
      "execution_count": 4,
      "outputs": [
        {
          "output_type": "stream",
          "text": [
            "Python é muito bom!\n"
          ],
          "name": "stdout"
        }
      ]
    },
    {
      "cell_type": "code",
      "metadata": {
        "id": "CdIueXtLVwgC",
        "colab_type": "code",
        "colab": {
          "base_uri": "https://localhost:8080/",
          "height": 34
        },
        "outputId": "fbfbf697-f73d-45e1-801d-1752ec7d32bd"
      },
      "source": [
        "# Buscando de novo a váriavel\n",
        "print(message)"
      ],
      "execution_count": null,
      "outputs": [
        {
          "output_type": "stream",
          "text": [
            "Python é muito bom!\n"
          ],
          "name": "stdout"
        }
      ]
    },
    {
      "cell_type": "markdown",
      "metadata": {
        "id": "NWF1mw23V_6u",
        "colab_type": "text"
      },
      "source": [
        "## Boas práticas de Uso e Nome de Variáveis\n",
        "\n",
        "Em Python é precisa seguir algumas regras e diretrizes ao atribuir o nome para uma variável.\n",
        "\n",
        "\n",
        "Lembre-se de ter as seguintes regras em mente:\n",
        "\n",
        "\n",
        "> -  Nomes de variáveis podem conter apenas letras, números e underscores. Podem começar com uma letra ou um underscore, mas não com um número;\n",
        ">> --Por exemplo, podemos chamar uma variável de\n",
        "message_1, mas não de 1_message.\n",
        "> - Espaços não são permitidos em nomes de variáveis, mas underscores podem ser usados para separar palavras em nomes de variáveis;\n",
        ">> --Por exemplo, greeting_message funciona, mas greeting message causará\n",
        "erros.\n",
        "> -  Evite usar palavras reservadas e nomes de funções em Python como nomes de variáveis, ou seja, não use palavras que Python reservou para um propósito particular de programação, por exemplo, a palavra print.\n",
        "(Veja a seção “Palavras reservadas e funções embutidas de Python”.);\n",
        "> - Nomes de variáveis devem ser concisos, porém descritivos; \n",
        ">> -- Por exemplo, name é melhor que n, student_name é melhor que s_n e name_length é melhor que lenght_of_Persons_name.\n",
        "> - Tome cuidado ao usar a letra minúscula l e a letra maiúscula O, pois elas podem ser confundidas com os números 1 e 0."
      ]
    },
    {
      "cell_type": "code",
      "metadata": {
        "id": "EXfuB7hJXhLw",
        "colab_type": "code",
        "colab": {}
      },
      "source": [
        ""
      ],
      "execution_count": null,
      "outputs": []
    },
    {
      "cell_type": "markdown",
      "metadata": {
        "id": "NyhMpFl9Xrxl",
        "colab_type": "text"
      },
      "source": [
        "## Evitando erros em nomes ao usar Variáveis\n",
        "\n",
        "Todo programador comete erros. Principalmente erros de digitação. O importante é ser eficiente na resolução dessas erros. \n",
        "\n",
        "Por isso abaixo criamos um código com erro e vamos aprender como ler e identificar o que o próprio Python mostra os erros. \n"
      ]
    },
    {
      "cell_type": "code",
      "metadata": {
        "id": "WUOyoWg8YFt1",
        "colab_type": "code",
        "colab": {
          "base_uri": "https://localhost:8080/",
          "height": 180
        },
        "outputId": "36b06358-b57e-4279-eb11-12d729503a25"
      },
      "source": [
        "message = 'A partir de agora serei muito bom em Python!'\n",
        "print(mesage)"
      ],
      "execution_count": 6,
      "outputs": [
        {
          "output_type": "error",
          "ename": "NameError",
          "evalue": "ignored",
          "traceback": [
            "\u001b[0;31m---------------------------------------------------------------------------\u001b[0m",
            "\u001b[0;31mNameError\u001b[0m                                 Traceback (most recent call last)",
            "\u001b[0;32m<ipython-input-6-c759f1b7ae6c>\u001b[0m in \u001b[0;36m<module>\u001b[0;34m()\u001b[0m\n\u001b[1;32m      1\u001b[0m \u001b[0mmessage\u001b[0m \u001b[0;34m=\u001b[0m \u001b[0;34m'A partir de agora serei muito bom em Python!'\u001b[0m\u001b[0;34m\u001b[0m\u001b[0;34m\u001b[0m\u001b[0m\n\u001b[0;32m----> 2\u001b[0;31m \u001b[0mprint\u001b[0m\u001b[0;34m(\u001b[0m\u001b[0mmesage\u001b[0m\u001b[0;34m)\u001b[0m\u001b[0;34m\u001b[0m\u001b[0;34m\u001b[0m\u001b[0m\n\u001b[0m",
            "\u001b[0;31mNameError\u001b[0m: name 'mesage' is not defined"
          ]
        }
      ]
    },
    {
      "cell_type": "code",
      "metadata": {
        "id": "FmhCEJXiYQk9",
        "colab_type": "code",
        "colab": {
          "base_uri": "https://localhost:8080/",
          "height": 34
        },
        "outputId": "fbcb54e6-642f-4791-e85f-7987d41ecd71"
      },
      "source": [
        "# linha 1 e 2 mostram a linha de codigo \n",
        "# NameError - de vermelho para chamar a atenção que o erro está no nome\n",
        "# apresenta o erro = name 'mesage' is not defined\n",
        "\"\"\" Ou seja por causa de um 's' tivemos um erro de compilação. \n",
        "A variável declarada é message e não mesage\"\"\"\n",
        "\n",
        "#VAMOS COMPILAR CORRETAMENTE AGORA:\n",
        "\n",
        "message = 'A partir de agora serei muito bom em Python!'\n",
        "print(message)"
      ],
      "execution_count": 7,
      "outputs": [
        {
          "output_type": "stream",
          "text": [
            "A partir de agora serei muito bom em Python!\n"
          ],
          "name": "stdout"
        }
      ]
    },
    {
      "cell_type": "markdown",
      "metadata": {
        "id": "h-lp3FuwZGz6",
        "colab_type": "text"
      },
      "source": [
        "# PRATIQUE:\n",
        "\n",
        "1 - Crie uma mensagem, armazene em uma variável e exiba essa mensagem.\n",
        "2 - Altere o valor da variável anterior que você criou e exiba a NOVA MENSAGEM.\n",
        "\n",
        "\n"
      ]
    }
  ]
}